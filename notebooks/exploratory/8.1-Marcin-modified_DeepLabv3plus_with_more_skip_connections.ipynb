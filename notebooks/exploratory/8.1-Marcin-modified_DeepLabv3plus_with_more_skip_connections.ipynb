{
 "cells": [
  {
   "cell_type": "code",
   "execution_count": 1,
   "id": "e64abf9f",
   "metadata": {},
   "outputs": [],
   "source": [
    "import os\n",
    "import cv2\n",
    "import numpy as np\n",
    "from glob import glob\n",
    "from scipy.io import loadmat\n",
    "import matplotlib.pyplot as plt\n",
    "import pandas as pd\n",
    "\n",
    "import tensorflow as tf\n",
    "import tensorflow_addons as tfa\n",
    "from tensorflow import keras\n",
    "from tensorflow.keras import layers"
   ]
  },
  {
   "cell_type": "code",
   "execution_count": 2,
   "id": "3935f8ba",
   "metadata": {},
   "outputs": [],
   "source": [
    "from tensorflow.compat.v1 import ConfigProto\n",
    "from tensorflow.compat.v1 import InteractiveSession\n",
    "\n",
    "config = ConfigProto()\n",
    "config.gpu_options.allow_growth = True\n",
    "session = InteractiveSession(config=config)"
   ]
  },
  {
   "cell_type": "code",
   "execution_count": 3,
   "id": "c6c63985",
   "metadata": {},
   "outputs": [],
   "source": [
    "BATCH_SIZE = 2\n",
    "\n",
    "IMG_SIZE = 512\n",
    "\n",
    "MASK_SIZE = 512\n",
    "\n",
    "NUM_CLASSES = 5\n",
    "\n",
    "NUM_TRAIN_IMAGES = 7470\n",
    "\n",
    "NUM_VAL_IMAGES = 1602\n",
    "\n",
    "NUM_TEST_IMAGES = 1602\n",
    "\n",
    "VERSION = '8.1'"
   ]
  },
  {
   "cell_type": "code",
   "execution_count": 4,
   "id": "7ab86216",
   "metadata": {},
   "outputs": [],
   "source": [
    "ABS_PATH = %pwd\n",
    "\n",
    "slash_idx = [idx for idx,ch in enumerate(ABS_PATH) if ch=='/']\n",
    "\n",
    "ABS_PATH = ABS_PATH[:slash_idx[-2]]"
   ]
  },
  {
   "cell_type": "code",
   "execution_count": 5,
   "id": "dd42b00a",
   "metadata": {},
   "outputs": [],
   "source": [
    "# add additional module import path\n",
    "import sys \n",
    "\n",
    "\n",
    "module_path = ABS_PATH + '/src/models'\n",
    "if module_path not in sys.path:\n",
    "    sys.path.append(module_path)"
   ]
  },
  {
   "cell_type": "code",
   "execution_count": 6,
   "id": "c21bfc0f",
   "metadata": {},
   "outputs": [],
   "source": [
    "from modified_deeplabv3plus_v8_5 import Deeplabv3"
   ]
  },
  {
   "cell_type": "code",
   "execution_count": 7,
   "id": "1a96700c",
   "metadata": {},
   "outputs": [],
   "source": [
    "def get_deeplab_model(weights=None, freeze_conv_base=True, freeze_border=359, activation=None):\n",
    "    \n",
    "    \"\"\"\n",
    "    Args:\n",
    "    weights: one of 'pascal_voc' (pre-trained on pascal voc),\n",
    "            'cityscapes' (pre-trained on cityscape) or None (random initialization)\n",
    "    freeze_conv_base: True if convolution base should be freezed or \n",
    "            False if it to be otherwise\n",
    "    activation: optional activation to add to the top of the network.\n",
    "            One of 'softmax', 'sigmoid' or None\n",
    "    \n",
    "    \"\"\"\n",
    "    \n",
    "    model = Deeplabv3(\n",
    "        weights=weights,\n",
    "        classes=NUM_CLASSES,\n",
    "        backbone='xception',\n",
    "        OS=16,\n",
    "        input_shape=(IMG_SIZE, IMG_SIZE, 3),\n",
    "        activation=activation)\n",
    "    \n",
    "    if freeze_conv_base:\n",
    "        \n",
    "        for i, layer in enumerate(model.layers):\n",
    "            \n",
    "            if i < freeze_border:\n",
    "                layer.trainable=False\n",
    "            else:\n",
    "                break\n",
    "                \n",
    "    return model"
   ]
  },
  {
   "cell_type": "code",
   "execution_count": null,
   "id": "5d4944ca",
   "metadata": {
    "scrolled": false
   },
   "outputs": [],
   "source": [
    "model = get_deeplab_model()"
   ]
  },
  {
   "cell_type": "code",
   "execution_count": null,
   "id": "ef47bc5d",
   "metadata": {
    "scrolled": false
   },
   "outputs": [],
   "source": [
    "tf.keras.utils.plot_model(model, to_file='./results/DeepLabv3+/v8_5.png', show_shapes=True)"
   ]
  },
  {
   "cell_type": "code",
   "execution_count": null,
   "id": "17617b55",
   "metadata": {},
   "outputs": [],
   "source": []
  }
 ],
 "metadata": {
  "kernelspec": {
   "display_name": "Tensorflow GPU (Python 3.7)",
   "language": "python",
   "name": "tensorflow"
  },
  "language_info": {
   "codemirror_mode": {
    "name": "ipython",
    "version": 3
   },
   "file_extension": ".py",
   "mimetype": "text/x-python",
   "name": "python",
   "nbconvert_exporter": "python",
   "pygments_lexer": "ipython3",
   "version": "3.8.10"
  }
 },
 "nbformat": 4,
 "nbformat_minor": 5
}
