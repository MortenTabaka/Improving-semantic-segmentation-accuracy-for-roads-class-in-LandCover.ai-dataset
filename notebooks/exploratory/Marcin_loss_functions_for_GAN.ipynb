{
 "cells": [
  {
   "cell_type": "code",
   "execution_count": 5,
   "id": "d0d4eec3",
   "metadata": {},
   "outputs": [
    {
     "data": {
      "text/plain": [
       "'2.5.0'"
      ]
     },
     "execution_count": 5,
     "metadata": {},
     "output_type": "execute_result"
    }
   ],
   "source": [
    "import tensorflow as tf\n",
    "\n",
    "tf.__version__"
   ]
  },
  {
   "cell_type": "code",
   "execution_count": 4,
   "id": "58d4774d",
   "metadata": {},
   "outputs": [],
   "source": [
    "def modified_generator_loss(\n",
    "    discriminator_gen_outputs,\n",
    "    label_smoothing=0.0,\n",
    "    weights=1.0,\n",
    "    scope=None,\n",
    "    loss_collection=tf.compat.v1.GraphKeys.LOSSES,\n",
    "    reduction=tf.compat.v1.losses.Reduction.SUM_BY_NONZERO_WEIGHTS,\n",
    "    add_summaries=False):\n",
    "    \n",
    "    \"\"\"Modified generator loss for GANs.\n",
    "    L = -log(sigmoid(D(G(z))))\n",
    "    This is the trick used in the original paper to avoid vanishing gradients\n",
    "    early in training. See `Generative Adversarial Nets`\n",
    "    (https://arxiv.org/abs/1406.2661) for more details.\n",
    "    \n",
    "    Args:    \n",
    "    discriminator_gen_outputs: Discriminator output on generated data. Expected\n",
    "      to be in the range of (-inf, inf).\n",
    "      \n",
    "    label_smoothing: The amount of smoothing for positive labels. This technique\n",
    "      is taken from `Improved Techniques for Training GANs`\n",
    "      (https://arxiv.org/abs/1606.03498). `0.0` means no smoothing.\n",
    "      \n",
    "    weights: Optional `Tensor` whose rank is either 0, or the same rank as\n",
    "      `discriminator_gen_outputs`, and must be broadcastable to `labels` (i.e.,\n",
    "      all dimensions must be either `1`, or the same as the corresponding\n",
    "      dimension).\n",
    "      \n",
    "    scope: The scope for the operations performed in computing the loss.\n",
    "    \n",
    "    loss_collection: collection to which this loss will be added.\n",
    "    \n",
    "    reduction: A `tf.losses.Reduction` to apply to loss.\n",
    "    \n",
    "    add_summaries: Whether or not to add summaries for the loss.\n",
    "    \n",
    "    Returns:\n",
    "    A loss Tensor. The shape depends on `reduction`.\n",
    "    \"\"\"\n",
    "    \n",
    "    with tf.compat.v1.name_scope(scope, 'generator_modified_loss',\n",
    "                               [discriminator_gen_outputs]) as scope:\n",
    "        loss = tf.compat.v1.losses.sigmoid_cross_entropy(\n",
    "            tf.ones_like(discriminator_gen_outputs), discriminator_gen_outputs,\n",
    "            weights, label_smoothing, scope, loss_collection, reduction)\n",
    "\n",
    "        if add_summaries:\n",
    "            tf.compat.v1.summary.scalar('generator_modified_loss', loss)\n",
    "\n",
    "    return loss"
   ]
  },
  {
   "cell_type": "code",
   "execution_count": 6,
   "id": "448ae647",
   "metadata": {},
   "outputs": [],
   "source": [
    "def modified_discriminator_loss(\n",
    "    discriminator_real_outputs,\n",
    "    discriminator_gen_outputs,\n",
    "    label_smoothing=0.25,\n",
    "    real_weights=1.0,\n",
    "    generated_weights=1.0,\n",
    "    scope=None,\n",
    "    loss_collection=tf.compat.v1.GraphKeys.LOSSES,\n",
    "    reduction=tf.compat.v1.losses.Reduction.SUM_BY_NONZERO_WEIGHTS,\n",
    "    add_summaries=False):\n",
    "    \n",
    "    \"\"\"Same as minimax discriminator loss.\n",
    "    See `Generative Adversarial Nets` (https://arxiv.org/abs/1406.2661) for more\n",
    "    details.\n",
    "    \n",
    "    Args:\n",
    "    discriminator_real_outputs: Discriminator output on real data.\n",
    "    \n",
    "    discriminator_gen_outputs: Discriminator output on generated data. Expected\n",
    "      to be in the range of (-inf, inf).\n",
    "    \n",
    "    label_smoothing: The amount of smoothing for positive labels. This technique\n",
    "      is taken from `Improved Techniques for Training GANs`\n",
    "      (https://arxiv.org/abs/1606.03498). `0.0` means no smoothing.\n",
    "    \n",
    "    real_weights: Optional `Tensor` whose rank is either 0, or the same rank as\n",
    "      `discriminator_gen_outputs`, and must be broadcastable to\n",
    "      `discriminator_gen_outputs` (i.e., all dimensions must be either `1`, or\n",
    "      the same as the corresponding dimension).\n",
    "    \n",
    "    generated_weights: Same as `real_weights`, but for\n",
    "      `discriminator_gen_outputs`.\n",
    "    \n",
    "    scope: The scope for the operations performed in computing the loss.\n",
    "    \n",
    "    loss_collection: collection to which this loss will be added.\n",
    "    \n",
    "    reduction: A `tf.losses.Reduction` to apply to loss.\n",
    "    \n",
    "    add_summaries: Whether or not to add summaries for the loss.\n",
    "    \n",
    "    Returns:\n",
    "    A loss Tensor. The shape depends on `reduction`.\n",
    "    \"\"\"\n",
    "    \n",
    "    return minimax_discriminator_loss(\n",
    "        discriminator_real_outputs,\n",
    "        discriminator_gen_outputs,\n",
    "        label_smoothing,\n",
    "        real_weights,\n",
    "        generated_weights,\n",
    "        scope or 'discriminator_modified_loss',\n",
    "        loss_collection,\n",
    "        reduction,\n",
    "        add_summaries)\n"
   ]
  },
  {
   "cell_type": "code",
   "execution_count": 8,
   "id": "fcb16b62",
   "metadata": {},
   "outputs": [],
   "source": [
    "def test():\n",
    "    print('success')"
   ]
  },
  {
   "cell_type": "code",
   "execution_count": null,
   "id": "9f8d9913",
   "metadata": {},
   "outputs": [],
   "source": []
  }
 ],
 "metadata": {
  "kernelspec": {
   "display_name": "Tensorflow GPU (Python 3.7)",
   "language": "python",
   "name": "tensorflow"
  },
  "language_info": {
   "codemirror_mode": {
    "name": "ipython",
    "version": 3
   },
   "file_extension": ".py",
   "mimetype": "text/x-python",
   "name": "python",
   "nbconvert_exporter": "python",
   "pygments_lexer": "ipython3",
   "version": "3.8.10"
  }
 },
 "nbformat": 4,
 "nbformat_minor": 5
}
