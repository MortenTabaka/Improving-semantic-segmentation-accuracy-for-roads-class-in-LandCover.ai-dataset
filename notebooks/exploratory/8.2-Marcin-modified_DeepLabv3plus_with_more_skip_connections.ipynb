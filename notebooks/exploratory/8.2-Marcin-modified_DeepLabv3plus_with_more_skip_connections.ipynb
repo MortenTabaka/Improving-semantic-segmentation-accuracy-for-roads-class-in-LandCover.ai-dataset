{
 "cells": [
  {
   "cell_type": "code",
   "execution_count": 1,
   "id": "744ed87c",
   "metadata": {},
   "outputs": [],
   "source": [
    "import os\n",
    "import cv2\n",
    "import numpy as np\n",
    "from glob import glob\n",
    "from scipy.io import loadmat\n",
    "import matplotlib.pyplot as plt\n",
    "import pandas as pd\n",
    "\n",
    "import tensorflow as tf\n",
    "import tensorflow_addons as tfa\n",
    "from tensorflow import keras\n",
    "from tensorflow.keras import layers"
   ]
  },
  {
   "cell_type": "code",
   "execution_count": 2,
   "id": "93f9195a",
   "metadata": {},
   "outputs": [],
   "source": [
    "from tensorflow.compat.v1 import ConfigProto\n",
    "from tensorflow.compat.v1 import InteractiveSession\n",
    "\n",
    "config = ConfigProto()\n",
    "config.gpu_options.allow_growth = True\n",
    "session = InteractiveSession(config=config)"
   ]
  },
  {
   "cell_type": "code",
   "execution_count": 3,
   "id": "c4d9152f",
   "metadata": {},
   "outputs": [],
   "source": [
    "BATCH_SIZE = 1\n",
    "\n",
    "IMG_SIZE = 512\n",
    "\n",
    "MASK_SIZE = 512\n",
    "\n",
    "NUM_CLASSES = 5\n",
    "\n",
    "NUM_TRAIN_IMAGES = 7470\n",
    "\n",
    "NUM_VAL_IMAGES = 1602\n",
    "\n",
    "NUM_TEST_IMAGES = 1602\n",
    "\n",
    "VERSION = '8.2'"
   ]
  },
  {
   "cell_type": "markdown",
   "id": "41897914",
   "metadata": {},
   "source": [
    "# Load data"
   ]
  },
  {
   "cell_type": "code",
   "execution_count": 4,
   "id": "4d63a22e",
   "metadata": {},
   "outputs": [],
   "source": [
    "ABS_PATH = %pwd"
   ]
  },
  {
   "cell_type": "code",
   "execution_count": 5,
   "id": "7e0915d1",
   "metadata": {},
   "outputs": [],
   "source": [
    "slash_idx = [idx for idx,ch in enumerate(ABS_PATH) if ch=='/']\n",
    "\n",
    "ABS_PATH = ABS_PATH[:slash_idx[-2]]"
   ]
  },
  {
   "cell_type": "code",
   "execution_count": 6,
   "id": "2d5ce277",
   "metadata": {},
   "outputs": [],
   "source": [
    "DATA_DIR = ABS_PATH + '/data/processed'"
   ]
  },
  {
   "cell_type": "code",
   "execution_count": 7,
   "id": "86db0522",
   "metadata": {},
   "outputs": [],
   "source": [
    "TRAIN_PATH = DATA_DIR + '/train'\n",
    "VAL_PATH = DATA_DIR + '/val'\n",
    "TEST_PATH = DATA_DIR + '/test'"
   ]
  },
  {
   "cell_type": "markdown",
   "id": "6c655545",
   "metadata": {},
   "source": [
    "Parameters of image changed by dataset authors during augmentation:\n",
    "\n",
    "1. hue  X\n",
    "2. saturation  X\n",
    "3. grayscale \n",
    "4. contrast  X\n",
    "5. brightness  X\n",
    "6. sharpness X\n",
    "7. adding noise\n",
    "8. doing flipping  X\n",
    "9. rotation  X\n",
    "10. cropping  X\n",
    "11. padding"
   ]
  },
  {
   "cell_type": "code",
   "execution_count": 8,
   "id": "02378b93",
   "metadata": {},
   "outputs": [],
   "source": [
    "@tf.function\n",
    "def augmentation(input_image, input_mask):\n",
    "    \n",
    "    # random crop and resize\n",
    "    if tf.random.uniform(()) > 0.5:\n",
    "        \n",
    "        crop_size = np.random.randint(420, 490, dtype=int)\n",
    "        \n",
    "        input_image = tf.image.random_crop(input_image, size=(crop_size, crop_size, 3))\n",
    "        input_image = tf.image.resize(input_image, [IMG_SIZE, IMG_SIZE])\n",
    "        \n",
    "        input_mask = tf.image.resize(input_mask, [IMG_SIZE, IMG_SIZE])\n",
    "        input_mask = tf.image.random_crop(input_mask, size=(crop_size, crop_size, 1))\n",
    "        input_mask = tf.image.resize(input_mask, [MASK_SIZE, MASK_SIZE])\n",
    "        \n",
    "    # random hue\n",
    "    if tf.random.uniform(()) > 0.5:\n",
    "        input_image = tf.image.random_hue(input_image, 0.2)\n",
    "    \n",
    "    # random saturation\n",
    "    if tf.random.uniform(()) > 0.5:\n",
    "        input_image = tf.image.random_saturation(input_image, 5, 10)\n",
    "    \n",
    "    # sharpness (image quality decrease)\n",
    "    if tf.random.uniform(()) > 0.5:\n",
    "        input_image = tf.image.random_jpeg_quality(input_image, 75, 95)\n",
    "        input_image = tf.reshape(input_image, (IMG_SIZE, IMG_SIZE,3))\n",
    "        \n",
    "    # random brightness adjustment illumination\n",
    "    if tf.random.uniform(()) > 0.5:\n",
    "        input_image = tf.image.random_brightness(input_image, 0.3)\n",
    "    \n",
    "    # random contrast adjustment\n",
    "    if tf.random.uniform(()) > 0.5:\n",
    "        input_image = tf.image.random_contrast(input_image, 0.2, 0.5)\n",
    "    \n",
    "    # random horizontal flip\n",
    "    if tf.random.uniform(()) > 0.5:\n",
    "        input_image = tf.image.flip_left_right(input_image)\n",
    "        input_mask = tf.image.flip_left_right(input_mask)\n",
    "    \n",
    "    # random vertical flip\n",
    "    if tf.random.uniform(()) > 0.5:\n",
    "        input_image = tf.image.flip_up_down(input_image)\n",
    "        input_mask = tf.image.flip_up_down(input_mask)\n",
    "\n",
    "#     # rotation in 30° steps\n",
    "#     if tf.random.uniform(()) > 0.5:\n",
    "#         rot_factor = tf.cast(tf.random.uniform(shape=[], maxval=12, dtype=tf.int32), tf.float32)\n",
    "#         angle = np.pi/12*rot_factor\n",
    "#         input_image = tfa.image.rotate(input_image, angle)\n",
    "#         input_mask = tfa.image.rotate(input_mask, angle)\n",
    "    \n",
    "    return input_image, input_mask"
   ]
  },
  {
   "cell_type": "code",
   "execution_count": 9,
   "id": "015d6498",
   "metadata": {
    "scrolled": false
   },
   "outputs": [],
   "source": [
    "def read_image(image_path, mask=False):\n",
    "    image = tf.io.read_file(image_path)\n",
    "    if mask:\n",
    "        image = tf.image.decode_png(image, channels=3)\n",
    "        image = image[..., 0]\n",
    "        image = tf.reshape(image, (MASK_SIZE, MASK_SIZE, 1))\n",
    "        image.set_shape([None, None, 1])\n",
    "        image = tf.image.resize(images=image, size=[MASK_SIZE, MASK_SIZE])\n",
    "    else:\n",
    "        image = tf.image.decode_jpeg(image, channels=3)\n",
    "        image.set_shape([None, None, 3])\n",
    "        image = tf.image.resize(images=image, size=[IMG_SIZE, IMG_SIZE])\n",
    "        image = image / 255.\n",
    "    return image\n",
    "\n",
    "def load_data(image_list, mask_list):\n",
    "    image = read_image(image_list)\n",
    "    mask = read_image(mask_list, mask=True)\n",
    "    return image, mask\n",
    "\n",
    "def load_augmented_data(image_list, mask_list):\n",
    "    image = read_image(image_list)\n",
    "    mask = read_image(mask_list, mask=True)\n",
    "    image, mask = augmentation(image, mask)\n",
    "    return image, mask\n",
    "\n",
    "\n",
    "def data_generator(image_list, mask_list, augmentation=False, factor=1):\n",
    "    \n",
    "    \"\"\"\n",
    "    Returns augmented or not augmented dataset with the same amount of elements.\n",
    "    \n",
    "    Args:\n",
    "    image_list: list of paths to each image\n",
    "    mask_list: list of paths to corresponding masks of images (sorted)\n",
    "    augmentation: \"True\" for getting augmeneted images and masks\n",
    "    \"\"\"\n",
    "    \n",
    "    dataset = tf.data.Dataset.from_tensor_slices((image_list, mask_list))\n",
    "    \n",
    "    if augmentation:\n",
    "        dataset = dataset.map(load_augmented_data, num_parallel_calls=tf.data.AUTOTUNE)\n",
    "    \n",
    "    else:\n",
    "        dataset = dataset.map(load_data, num_parallel_calls=tf.data.AUTOTUNE)\n",
    "        \n",
    "    dataset = dataset.batch(BATCH_SIZE, drop_remainder=True)\n",
    "    \n",
    "    if factor > 1 and augmentation:\n",
    "        for _ in range(factor-1):\n",
    "            dataset_to_concat = dataset.map(load_augmented_data, num_parallel_calls=tf.data.AUTOTUNE)\n",
    "            dataset = dataset.concatenate(dataset_to_concat)\n",
    "\n",
    "    return dataset"
   ]
  },
  {
   "cell_type": "code",
   "execution_count": 10,
   "id": "6190e25f",
   "metadata": {},
   "outputs": [],
   "source": [
    "train_images = sorted(glob(os.path.join(TRAIN_PATH, \"images/img/*\")))\n",
    "train_masks = sorted(glob(os.path.join(TRAIN_PATH, \"masks/img/*\")))\n",
    "val_images = sorted(glob(os.path.join(VAL_PATH, \"images/img/*\")))\n",
    "val_masks = sorted(glob(os.path.join(VAL_PATH, \"masks/img/*\")))\n",
    "test_images = sorted(glob(os.path.join(TEST_PATH, \"images/img/*\")))\n",
    "test_masks = sorted(glob(os.path.join(TEST_PATH, \"masks/img/*\")))"
   ]
  },
  {
   "cell_type": "code",
   "execution_count": 11,
   "id": "7eb277a7",
   "metadata": {
    "scrolled": false
   },
   "outputs": [],
   "source": [
    "# opens txt file generated in 6.1 notebook\n",
    "# txt file contains file paths of low quality masks and\n",
    "# corresponding images to exclude\n",
    "# then it removes it from lists of files to be loaded to dataset\n",
    "\n",
    "\n",
    "def remove_file_paths_according_to_previously_generated_txt(list_with_file_names, nested_list_with_data_paths):\n",
    "\n",
    "    for name, data_list in zip(list_with_file_names, nested_list_with_data_paths):\n",
    "\n",
    "        open_path = ABS_PATH + f'/data/evaluation_of_masks/{name}_to_exclude.txt'\n",
    "\n",
    "        with open(open_path) as file:\n",
    "\n",
    "            for line in file:\n",
    "                element = line.rstrip()\n",
    "\n",
    "                if element in data_list:\n",
    "                    data_list.remove(element)\n",
    "\n",
    "                else:\n",
    "                    pass"
   ]
  },
  {
   "cell_type": "code",
   "execution_count": 12,
   "id": "5fb3d305",
   "metadata": {},
   "outputs": [],
   "source": [
    "file_names = ['train_images', 'train_masks', 'val_images',\n",
    "            'val_masks']\n",
    "\n",
    "data_lists = [train_images, train_masks, val_images, \n",
    "              val_masks]\n",
    "\n",
    "\n",
    "remove_file_paths_according_to_previously_generated_txt(file_names, data_lists)"
   ]
  },
  {
   "cell_type": "code",
   "execution_count": 13,
   "id": "1776736e",
   "metadata": {},
   "outputs": [
    {
     "name": "stdout",
     "output_type": "stream",
     "text": [
      "Train Dataset: <BatchDataset shapes: ((1, 512, 512, 3), (1, 512, 512, 1)), types: (tf.float32, tf.float32)>\n",
      "Number of images in Train Dataset: 7357\n",
      "Val Dataset: <BatchDataset shapes: ((1, 512, 512, 3), (1, 512, 512, 1)), types: (tf.float32, tf.float32)>\n",
      "Number of images in Val Dataset: 1572\n",
      "Test Dataset: <BatchDataset shapes: ((1, 512, 512, 3), (1, 512, 512, 1)), types: (tf.float32, tf.float32)>\n",
      "Number of images in Val Dataset: 1602\n"
     ]
    }
   ],
   "source": [
    "train_dataset = data_generator(train_images, train_masks)\n",
    "val_dataset = data_generator(val_images, val_masks)\n",
    "test_dataset = data_generator(test_images, test_masks)\n",
    "\n",
    "print(\"Train Dataset:\", train_dataset)\n",
    "print(\"Number of images in Train Dataset:\", BATCH_SIZE * len(train_dataset))\n",
    "print(\"Val Dataset:\", val_dataset)\n",
    "print(\"Number of images in Val Dataset:\", BATCH_SIZE * len(val_dataset))\n",
    "print(\"Test Dataset:\", test_dataset)\n",
    "print(\"Number of images in Val Dataset:\", BATCH_SIZE * len(test_dataset))"
   ]
  },
  {
   "cell_type": "code",
   "execution_count": 14,
   "id": "8e27ebe8",
   "metadata": {},
   "outputs": [],
   "source": [
    "NUM_TRAIN_IMAGES = BATCH_SIZE * len(train_dataset)\n",
    "NUM_VAL_IMAGES = BATCH_SIZE * len(val_dataset)"
   ]
  },
  {
   "cell_type": "markdown",
   "id": "3a286cbf",
   "metadata": {},
   "source": [
    "# Class balance "
   ]
  },
  {
   "cell_type": "code",
   "execution_count": 15,
   "id": "f7c777ba",
   "metadata": {},
   "outputs": [],
   "source": [
    "# class_count = {\n",
    "#     0: 0.0,\n",
    "#     1: 0.0,\n",
    "#     2: 0.0,\n",
    "#     3: 0.0,\n",
    "#     4: 0.0\n",
    "# }\n",
    "\n",
    "# for mask_path in train_masks:\n",
    "\n",
    "#     mask = read_image(mask_path, mask=True)\n",
    "    \n",
    "#     class_arr = mask[..., 0]\n",
    "\n",
    "#     one_mask_count = np.unique(class_arr, return_counts=True)\n",
    "\n",
    "#     for i in range(len(one_mask_count[0])):\n",
    "#         class_count[one_mask_count[0][i]] += one_mask_count[1][i]\n",
    "\n",
    "# class_count"
   ]
  },
  {
   "cell_type": "code",
   "execution_count": 16,
   "id": "c8020851",
   "metadata": {},
   "outputs": [
    {
     "data": {
      "text/html": [
       "<div>\n",
       "<style scoped>\n",
       "    .dataframe tbody tr th:only-of-type {\n",
       "        vertical-align: middle;\n",
       "    }\n",
       "\n",
       "    .dataframe tbody tr th {\n",
       "        vertical-align: top;\n",
       "    }\n",
       "\n",
       "    .dataframe thead th {\n",
       "        text-align: right;\n",
       "    }\n",
       "</style>\n",
       "<table border=\"1\" class=\"dataframe\">\n",
       "  <thead>\n",
       "    <tr style=\"text-align: right;\">\n",
       "      <th></th>\n",
       "      <th>class_number</th>\n",
       "      <th>pixel_count</th>\n",
       "    </tr>\n",
       "  </thead>\n",
       "  <tbody>\n",
       "    <tr>\n",
       "      <th>background</th>\n",
       "      <td>0</td>\n",
       "      <td>1.134440e+09</td>\n",
       "    </tr>\n",
       "    <tr>\n",
       "      <th>buildings</th>\n",
       "      <td>1</td>\n",
       "      <td>1.676724e+07</td>\n",
       "    </tr>\n",
       "    <tr>\n",
       "      <th>woodland</th>\n",
       "      <td>2</td>\n",
       "      <td>6.487148e+08</td>\n",
       "    </tr>\n",
       "    <tr>\n",
       "      <th>water</th>\n",
       "      <td>3</td>\n",
       "      <td>1.265083e+08</td>\n",
       "    </tr>\n",
       "    <tr>\n",
       "      <th>roads</th>\n",
       "      <td>4</td>\n",
       "      <td>3.178538e+07</td>\n",
       "    </tr>\n",
       "  </tbody>\n",
       "</table>\n",
       "</div>"
      ],
      "text/plain": [
       "            class_number   pixel_count\n",
       "background             0  1.134440e+09\n",
       "buildings              1  1.676724e+07\n",
       "woodland               2  6.487148e+08\n",
       "water                  3  1.265083e+08\n",
       "roads                  4  3.178538e+07"
      ]
     },
     "execution_count": 16,
     "metadata": {},
     "output_type": "execute_result"
    },
    {
     "data": {
      "image/png": "[encoded data removed]",
      "text/plain": [
       "<Figure size 432x288 with 1 Axes>"
      ]
     },
     "metadata": {
      "needs_background": "light"
     },
     "output_type": "display_data"
    }
   ],
   "source": [
    "# create dict with already calculated values to bypass renewed calculating\n",
    "\n",
    "class_count = {\n",
    "     0: 1134439928.0, \n",
    "     1: 16767238.0, \n",
    "     2: 648714832.0, \n",
    "     3: 126508305.0, \n",
    "     4: 31785377.0\n",
    "}\n",
    "\n",
    "CLASS_NAMES = ['background', 'buildings', 'woodland', 'water', 'roads']\n",
    "\n",
    "df = pd.DataFrame(data=class_count.items(), \n",
    "                  index=CLASS_NAMES, \n",
    "                  columns=['class_number', 'pixel_count'])\n",
    "\n",
    "df.loc[:, 'pixel_count'].plot.bar()\n",
    "plt.xlabel('class')\n",
    "\n",
    "df"
   ]
  },
  {
   "cell_type": "code",
   "execution_count": 17,
   "id": "7df01a63",
   "metadata": {},
   "outputs": [],
   "source": [
    "def get_class_weight(dictionary):\n",
    "    \n",
    "    weights_dict = {}\n",
    "    \n",
    "    n_samples = sum(dictionary.values())\n",
    "    \n",
    "    for key in dictionary:\n",
    "        weights_dict[key] = round(n_samples / (NUM_CLASSES * dictionary[key]), 4)\n",
    "        \n",
    "    return weights_dict"
   ]
  },
  {
   "cell_type": "code",
   "execution_count": 18,
   "id": "f2db8c9f",
   "metadata": {},
   "outputs": [],
   "source": [
    "# def get_class_weight(dictionary):\n",
    "    \n",
    "#     id_max_val = max(dictionary, key=dictionary.get)\n",
    "#     max_val = dictionary[id_max_val]\n",
    "    \n",
    "#     for key in dictionary:\n",
    "#         dictionary[key] = int(max_val / dictionary[key])\n",
    "        \n",
    "#     return dictionary"
   ]
  },
  {
   "cell_type": "code",
   "execution_count": 19,
   "id": "c51dc922",
   "metadata": {},
   "outputs": [
    {
     "data": {
      "text/plain": [
       "{0: 0.3452, 1: 23.3576, 2: 0.6037, 3: 3.0958, 4: 12.3215}"
      ]
     },
     "execution_count": 19,
     "metadata": {},
     "output_type": "execute_result"
    }
   ],
   "source": [
    "class_weight = get_class_weight(class_count)\n",
    "class_weight"
   ]
  },
  {
   "cell_type": "markdown",
   "id": "b1237816",
   "metadata": {},
   "source": [
    "# DeepLabv3+\n",
    "\n",
    "https://keras.io/examples/vision/deeplabv3_plus/"
   ]
  },
  {
   "cell_type": "markdown",
   "id": "57840825",
   "metadata": {},
   "source": [
    "## Create model architecture"
   ]
  },
  {
   "attachments": {
    "image.png": {
     "image/png": "[encoded data removed]"
    }
   },
   "cell_type": "markdown",
   "id": "0fd16565",
   "metadata": {},
   "source": [
    "![image.png](attachment:image.png)"
   ]
  },
  {
   "cell_type": "code",
   "execution_count": 20,
   "id": "83b0291c",
   "metadata": {},
   "outputs": [],
   "source": [
    "# add additional module import path\n",
    "import sys \n",
    "\n",
    "\n",
    "module_path = ABS_PATH + '/src/models'\n",
    "if module_path not in sys.path:\n",
    "    sys.path.append(module_path)"
   ]
  },
  {
   "cell_type": "code",
   "execution_count": 21,
   "id": "ba68d8dc",
   "metadata": {},
   "outputs": [],
   "source": [
    "from modified_deeplabv3plus import Deeplabv3"
   ]
  },
  {
   "cell_type": "code",
   "execution_count": 22,
   "id": "90c1c6d4",
   "metadata": {
    "code_folding": []
   },
   "outputs": [],
   "source": [
    "def get_deeplab_model(weights=None, freeze_conv_base=True, freeze_border=359, activation=None):\n",
    "    \n",
    "    \"\"\"\n",
    "    Args:\n",
    "    weights: one of 'pascal_voc' (pre-trained on pascal voc),\n",
    "            'cityscapes' (pre-trained on cityscape) or None (random initialization)\n",
    "    freeze_conv_base: True if convolution base should be freezed or \n",
    "            False if it to be otherwise\n",
    "    activation: optional activation to add to the top of the network.\n",
    "            One of 'softmax', 'sigmoid' or None\n",
    "    \n",
    "    \"\"\"\n",
    "    \n",
    "    model = Deeplabv3(\n",
    "        weights=weights,\n",
    "        classes=NUM_CLASSES,\n",
    "        backbone='xception',\n",
    "        OS=16,\n",
    "        input_shape=(IMG_SIZE, IMG_SIZE, 3),\n",
    "        activation=activation)\n",
    "    \n",
    "    if freeze_conv_base:\n",
    "        \n",
    "        for i, layer in enumerate(model.layers):\n",
    "            \n",
    "            if i < freeze_border:\n",
    "                layer.trainable=False\n",
    "            else:\n",
    "                break\n",
    "                \n",
    "    return model"
   ]
  },
  {
   "cell_type": "markdown",
   "id": "33b9f181",
   "metadata": {},
   "source": [
    "## Callbacks"
   ]
  },
  {
   "cell_type": "code",
   "execution_count": 23,
   "id": "aafa5750",
   "metadata": {},
   "outputs": [],
   "source": [
    "# path_best_miou_weights = ABS_PATH + f'/notebooks/exploratory/results/DeepLabv3+/{VERSION}_class_weights_no_aug/best_miou/checkpoint'\n",
    "# dir_path_miou = ABS_PATH + f'/notebooks/exploratory/results/DeepLabv3+/{VERSION}_class_weights_no_aug/best_miou'\n",
    "\n",
    "# for path in [dir_path_miou]:\n",
    "#     if not os.path.exists(path):\n",
    "#         os.makedirs(path)"
   ]
  },
  {
   "cell_type": "code",
   "execution_count": 24,
   "id": "6bf24fd1",
   "metadata": {},
   "outputs": [],
   "source": [
    "early_stopping_val_mIoU = tf.keras.callbacks.EarlyStopping(monitor='val_mIoU',\n",
    "                                                           patience=3,\n",
    "                                                           mode='max')\n",
    "\n",
    "# best_miou = tf.keras.callbacks.ModelCheckpoint(\n",
    "#     path_best_miou_weights,\n",
    "#     monitor='val_mIoU',\n",
    "#     verbose=1,\n",
    "#     save_best_only=True,\n",
    "#     save_weights_only=True,\n",
    "#     mode='max',\n",
    "#     save_freq='epoch'\n",
    "# )"
   ]
  },
  {
   "cell_type": "code",
   "execution_count": 25,
   "id": "fcda1b3e",
   "metadata": {},
   "outputs": [],
   "source": [
    "def scheduler(epoch, lr):\n",
    "    if lr > 0.00001:\n",
    "        return lr * tf.math.exp(-0.1)\n",
    "    else:\n",
    "        return 0.00001\n",
    "\n",
    "\n",
    "learning_rate_callback = tf.keras.callbacks.LearningRateScheduler(scheduler, verbose=1)"
   ]
  },
  {
   "cell_type": "markdown",
   "id": "3cf7e3e3",
   "metadata": {},
   "source": [
    "## Custom MeanIoU metric"
   ]
  },
  {
   "cell_type": "code",
   "execution_count": 26,
   "id": "9c491b79",
   "metadata": {},
   "outputs": [],
   "source": [
    "class CustomMeanIoU(tf.keras.metrics.MeanIoU):\n",
    "    def __init__(self,\n",
    "                y_true=None,\n",
    "                y_pred=None,\n",
    "                num_classes=None,\n",
    "                name=None,\n",
    "                dtype=None):\n",
    "        super(CustomMeanIoU, self).__init__(num_classes=num_classes, name=name, dtype=dtype)\n",
    "\n",
    "    def update_state(self, y_true, y_pred, sample_weight=None):\n",
    "        y_pred = tf.math.argmax(y_pred, axis=-1)\n",
    "        return super().update_state(y_true, y_pred, sample_weight)"
   ]
  },
  {
   "cell_type": "code",
   "execution_count": 27,
   "id": "53d5a86b",
   "metadata": {},
   "outputs": [],
   "source": [
    "custom_mIoU_metric = CustomMeanIoU(num_classes=NUM_CLASSES, name='mIoU')"
   ]
  },
  {
   "cell_type": "markdown",
   "id": "40fb2f13",
   "metadata": {},
   "source": [
    "## Loss and loss weights"
   ]
  },
  {
   "cell_type": "code",
   "execution_count": 28,
   "id": "a39efa01",
   "metadata": {},
   "outputs": [
    {
     "data": {
      "text/plain": [
       "[0.3452, 23.3576, 0.6037, 3.0958, 12.3215]"
      ]
     },
     "execution_count": 28,
     "metadata": {},
     "output_type": "execute_result"
    }
   ],
   "source": [
    "loss_SCC = tf.keras.losses.SparseCategoricalCrossentropy(from_logits=True)\n",
    "\n",
    "loss_weights = list(class_weight.values())\n",
    "\n",
    "loss_weights"
   ]
  },
  {
   "cell_type": "code",
   "execution_count": 29,
   "id": "8f9ba002",
   "metadata": {},
   "outputs": [],
   "source": [
    "def mask_to_categorical(mask, num_classes):\n",
    "    mask = tf.one_hot(tf.cast(mask[..., 0], tf.int32), num_classes)\n",
    "    mask = tf.cast(mask, tf.float32)\n",
    "    return mask"
   ]
  },
  {
   "cell_type": "markdown",
   "id": "9b938d75",
   "metadata": {},
   "source": [
    "### Boundary loss\n",
    "https://github.com/LIVIAETS/boundary-loss#requirements-pytorch"
   ]
  },
  {
   "cell_type": "code",
   "execution_count": 30,
   "id": "77426259",
   "metadata": {},
   "outputs": [],
   "source": [
    "from tensorflow.keras import backend as K\n",
    "from scipy.ndimage import distance_transform_edt as distance\n",
    "\n",
    "\n",
    "def calc_dist_map(seg):\n",
    "    res = np.zeros_like(seg)\n",
    "    posmask = seg.astype(np.bool_)\n",
    "\n",
    "    if posmask.any():\n",
    "        negmask = ~posmask\n",
    "        res = distance(negmask) * negmask - (distance(posmask) - 1) * posmask\n",
    "\n",
    "    return res\n",
    "\n",
    "\n",
    "def calc_dist_map_batch(y_true):\n",
    "    \n",
    "    if y_true.shape[-1]==1:\n",
    "        y_true = mask_to_categorical(y_true, NUM_CLASSES)\n",
    "    \n",
    "    y_true_numpy = y_true.numpy()\n",
    "    return np.array([calc_dist_map(y)\n",
    "                     for y in y_true_numpy]).astype(np.float32)\n",
    "\n",
    "\n",
    "def surface_loss_keras(y_true, y_pred):\n",
    "    y_true_dist_map = tf.py_function(func=calc_dist_map_batch,\n",
    "                                     inp=[y_true],\n",
    "                                     Tout=tf.float32)\n",
    "    multipled = y_pred * y_true_dist_map\n",
    "    return K.mean(multipled)"
   ]
  },
  {
   "cell_type": "code",
   "execution_count": 31,
   "id": "d6c86ae1",
   "metadata": {},
   "outputs": [],
   "source": [
    "from tensorflow.keras import backend as K\n",
    "import numpy as np\n",
    "import tensorflow as tf\n",
    "import cv2\n",
    "\n",
    "def distance(label):\n",
    "    tlabel = label.astype(np.uint8) \n",
    "    dist = cv2.distanceTransform(tlabel, \n",
    "                                 cv2.DIST_L2, \n",
    "                                 0)\n",
    "    \"\"\"\n",
    "    uncomment this if you want to normalize the distance\n",
    "    \"\"\"\n",
    "    dist = cv2.normalize(dist, \n",
    "                         dist, \n",
    "                         0, 1.0, \n",
    "                         cv2.NORM_MINMAX)    \n",
    "    return dist\n",
    "\n",
    "def calc_dist_map(seg):\n",
    "    H,W,C=seg.shape\n",
    "    res = np.zeros_like(seg)\n",
    "    for c in range(C):    \n",
    "        posmask = seg[:,:,c].astype(np.bool_)\n",
    "        if posmask.any():\n",
    "            negmask = ~posmask\n",
    "            res[:,:,c] = distance(negmask) * negmask - (distance(posmask) - 1) * posmask\n",
    "\n",
    "    return res\n",
    "\n",
    "\n",
    "def calc_dist_map_batch(y_true):\n",
    "    \n",
    "    if y_true.shape[-1]==1:\n",
    "        y_true = mask_to_categorical(y_true, NUM_CLASSES)\n",
    "    \n",
    "    y_true_numpy = y_true.numpy()\n",
    "    return np.array([calc_dist_map(y)\n",
    "                     for y in y_true_numpy]).astype(np.float32)\n",
    "\n",
    "\n",
    "def multiclass_surface_loss_keras(y_true, y_pred):\n",
    "    y_true_dist_map = tf.py_function(func=calc_dist_map_batch,\n",
    "                                     inp=[y_true],\n",
    "                                     Tout=tf.float32)\n",
    "    multipled = y_pred * y_true_dist_map\n",
    "    return K.mean(multipled)"
   ]
  },
  {
   "cell_type": "markdown",
   "id": "d164a9e8",
   "metadata": {},
   "source": [
    "## Evaluation utils"
   ]
  },
  {
   "cell_type": "code",
   "execution_count": 32,
   "id": "1fc5223c",
   "metadata": {},
   "outputs": [],
   "source": [
    "def make_model_history_plots(model_history):\n",
    "    plt.plot(model_history.history[\"loss\"])\n",
    "    plt.title(\"Training Loss (Epoch)\")\n",
    "    plt.ylabel(\"loss\")\n",
    "    plt.xlabel(\"Epoch\")\n",
    "    plt.show()\n",
    "\n",
    "    plt.plot(model_history.history[\"mIoU\"])\n",
    "    plt.title(\"Training mIoU (Epoch)\")\n",
    "    plt.ylabel(\"mIoU\")\n",
    "    plt.xlabel(\"Epoch\")\n",
    "    plt.show()\n",
    "\n",
    "    plt.plot(model_history.history[\"val_loss\"])\n",
    "    plt.title(\"Validation Loss (Epoch)\")\n",
    "    plt.ylabel(\"Validation Loss\")\n",
    "    plt.xlabel(\"Epoch\")\n",
    "    plt.show()\n",
    "\n",
    "    plt.plot(model_history.history[\"val_mIoU\"])\n",
    "    plt.title(\"Validation mIoU (Epoch)\")\n",
    "    plt.ylabel(\"Validation mIoU\")\n",
    "    plt.xlabel(\"Epoch\")\n",
    "    plt.show()"
   ]
  },
  {
   "cell_type": "code",
   "execution_count": 33,
   "id": "c8d0eeed",
   "metadata": {},
   "outputs": [],
   "source": [
    "def infer(model, image_tensor):\n",
    "    predictions = model.predict(np.expand_dims((image_tensor), axis=0))\n",
    "    predictions = np.squeeze(predictions)\n",
    "    predictions = np.argmax(predictions, axis=2)\n",
    "    return predictions\n",
    "\n",
    "\n",
    "def decode_segmentation_masks(mask, colormap, n_classes):\n",
    "    r = np.zeros_like(mask).astype(np.uint8)\n",
    "    g = np.zeros_like(mask).astype(np.uint8)\n",
    "    b = np.zeros_like(mask).astype(np.uint8)\n",
    "    for l in range(0, n_classes):\n",
    "        idx = mask == l\n",
    "        r[idx] = colormap[l][0]\n",
    "        g[idx] = colormap[l][1]\n",
    "        b[idx] = colormap[l][2]\n",
    "    rgb = np.stack([r, g, b], axis=2)\n",
    "    return rgb\n",
    "\n",
    "\n",
    "def get_overlay(image, colored_mask):\n",
    "    image = tf.keras.preprocessing.image.array_to_img(image)\n",
    "    image = np.array(image).astype(np.uint8)\n",
    "    image = tf.image.resize(image, [512, 512])\n",
    "    image.set_shape([None, None, 3])\n",
    "    image = tf.reshape(image, (512,512,3))\n",
    "    overlay = tfa.image.blend(image, colored_mask, 0.5)\n",
    "    return overlay\n",
    "\n",
    "\n",
    "def plot_samples_matplotlib(display_list, figsize=(5, 3)):\n",
    "    _, axes = plt.subplots(nrows=1, ncols=len(display_list), figsize=figsize)\n",
    "    for i in range(len(display_list)):\n",
    "        if display_list[i].shape[-1] == 3:\n",
    "            axes[i].imshow(tf.keras.preprocessing.image.array_to_img(display_list[i]))\n",
    "        else:\n",
    "            axes[i].imshow(display_list[i])\n",
    "    plt.show()\n",
    "\n",
    "\n",
    "def plot_predictions(images_list, masks_list, colormap, model):\n",
    "    for image_file, mask_file in zip(images_list, masks_list):\n",
    "        image_tensor = read_image(image_file)\n",
    "        mask_tensor = read_image(mask_file, mask=True)\n",
    "        mask_tensor = mask_tensor[..., 0]\n",
    "        mask_tensor = decode_segmentation_masks(mask_tensor, colormap, NUM_CLASSES)\n",
    "        prediction_mask = infer(image_tensor=image_tensor, model=model)\n",
    "        prediction_colormap = decode_segmentation_masks(prediction_mask, colormap, NUM_CLASSES)\n",
    "        overlay = get_overlay(image_tensor, prediction_colormap)\n",
    "        overlay_orginal = get_overlay(image_tensor, mask_tensor)\n",
    "        plot_samples_matplotlib(\n",
    "            [image_tensor, overlay_orginal, overlay, prediction_colormap], figsize=(18, 14)\n",
    "        )\n"
   ]
  },
  {
   "cell_type": "code",
   "execution_count": 34,
   "id": "c277f5eb",
   "metadata": {},
   "outputs": [],
   "source": [
    "colormap = [[0, 0, 0], [255, 0, 0], [0, 255, 0], [0, 0, 255], [255, 255, 255]]"
   ]
  },
  {
   "cell_type": "markdown",
   "id": "2d461227",
   "metadata": {},
   "source": [
    "### mIOU score for test dataset"
   ]
  },
  {
   "cell_type": "code",
   "execution_count": 35,
   "id": "65ebd3eb",
   "metadata": {},
   "outputs": [],
   "source": [
    "def get_miou_for_images(images_list, masks_list, model):\n",
    "    \n",
    "    m = tf.keras.metrics.MeanIoU(NUM_CLASSES)\n",
    "    \n",
    "    for image_file, mask_file in zip(images_list, masks_list):\n",
    "        \n",
    "        image_tensor = read_image(image_file)\n",
    "        \n",
    "        mask_tensor = read_image(mask_file, mask=True)\n",
    "        mask_tensor = mask_tensor[..., 0]\n",
    "\n",
    "        prediction_mask = infer(image_tensor=image_tensor, model=model)\n",
    "        \n",
    "        m.update_state([mask_tensor], [prediction_mask])\n",
    "        \n",
    "    return m.result().numpy()"
   ]
  },
  {
   "cell_type": "code",
   "execution_count": 36,
   "id": "9dc320ea",
   "metadata": {},
   "outputs": [],
   "source": [
    "from tensorflow.keras.metrics import Metric\n",
    "from typing import Union, List, Tuple"
   ]
  },
  {
   "cell_type": "code",
   "execution_count": 37,
   "id": "17c60e67",
   "metadata": {},
   "outputs": [],
   "source": [
    "class _IoUBase(Metric):\n",
    "    \"\"\"Computes the confusion matrix for Intersection-Over-Union metrics.\n",
    "    Intersection-Over-Union is a common evaluation metric for semantic image\n",
    "    segmentation.\n",
    "    For an individual class, the IoU metric is defined as follows:\n",
    "    ```\n",
    "    iou = true_positives / (true_positives + false_positives + false_negatives)\n",
    "    ```\n",
    "    From IoUs of individual classes, the MeanIoU can be computed as the mean of\n",
    "    the individual IoUs.\n",
    "    To compute IoUs, the predictions are accumulated in a confusion matrix,\n",
    "    weighted by `sample_weight` and the metric is then calculated from it.\n",
    "    If `sample_weight` is `None`, weights default to 1.\n",
    "    Use `sample_weight` of 0 to mask values.\n",
    "    Args:\n",
    "    num_classes: The possible number of labels the prediction task can have.\n",
    "      This value must be provided, since a confusion matrix of size\n",
    "      `(num_classes, num_classes)` will be allocated.\n",
    "    name: (Optional) string name of the metric instance.\n",
    "    dtype: (Optional) data type of the metric result.\n",
    "    \"\"\"\n",
    "\n",
    "    def __init__(self, num_classes, name=None, dtype=None):\n",
    "        super(_IoUBase, self).__init__(name=name, dtype=dtype)\n",
    "        self.num_classes = num_classes\n",
    "\n",
    "        # Variable to accumulate the predictions in the confusion matrix.\n",
    "        self.total_cm = self.add_weight(\n",
    "            'total_confusion_matrix',\n",
    "            shape=(num_classes, num_classes),\n",
    "            initializer=tf.compat.v1.zeros_initializer)\n",
    "\n",
    "    def update_state(self, y_true, y_pred, sample_weight=None):\n",
    "        \"\"\"Accumulates the confusion matrix statistics.\n",
    "        Args:\n",
    "          y_true: The ground truth values.\n",
    "          y_pred: The predicted values.\n",
    "          sample_weight: Optional weighting of each example. Defaults to 1. Can be a\n",
    "            `Tensor` whose rank is either 0, or the same rank as `y_true`, and must\n",
    "            be broadcastable to `y_true`.\n",
    "        Returns:\n",
    "          Update op.\n",
    "        \"\"\"\n",
    "\n",
    "        y_true = tf.cast(y_true, self._dtype)\n",
    "        y_pred = tf.cast(y_pred, self._dtype)\n",
    "\n",
    "        # Flatten the input if its rank > 1.\n",
    "        if y_pred.shape.ndims > 1:\n",
    "            y_pred = tf.reshape(y_pred, [-1])\n",
    "\n",
    "        if y_true.shape.ndims > 1:\n",
    "            y_true = tf.reshape(y_true, [-1])\n",
    "\n",
    "        if sample_weight is not None:\n",
    "            sample_weight = tf.cast(sample_weight, self._dtype)\n",
    "            if sample_weight.shape.ndims > 1:\n",
    "                sample_weight = tf.reshape(sample_weight, [-1])\n",
    "\n",
    "        # Accumulate the prediction to current confusion matrix.\n",
    "        current_cm = tf.math.confusion_matrix(\n",
    "            y_true,\n",
    "            y_pred,\n",
    "            self.num_classes,\n",
    "            weights=sample_weight,\n",
    "            dtype=self._dtype)\n",
    "        return self.total_cm.assign_add(current_cm)\n",
    "\n",
    "    def reset_state(self):\n",
    "        backend.set_value(\n",
    "            self.total_cm, np.zeros((self.num_classes, self.num_classes)))"
   ]
  },
  {
   "cell_type": "code",
   "execution_count": 38,
   "id": "4546f994",
   "metadata": {},
   "outputs": [],
   "source": [
    "class IoU(_IoUBase):\n",
    "    \"\"\"Computes the Intersection-Over-Union metric for specific target classes.\n",
    "\n",
    "    General definition and computation:\n",
    "\n",
    "    Intersection-Over-Union is a common evaluation metric for semantic image\n",
    "    segmentation.\n",
    "\n",
    "    For an individual class, the IoU metric is defined as follows:\n",
    "\n",
    "    ```\n",
    "    iou = true_positives / (true_positives + false_positives + false_negatives)\n",
    "    ```\n",
    "\n",
    "    To compute IoUs, the predictions are accumulated in a confusion matrix,\n",
    "    weighted by `sample_weight` and the metric is then calculated from it.\n",
    "\n",
    "    If `sample_weight` is `None`, weights default to 1.\n",
    "    Use `sample_weight` of 0 to mask values.\n",
    "\n",
    "    Note, this class first computes IoUs for all individual classes, then returns\n",
    "    the mean of IoUs for the classes that are specified by `target_class_ids`. If\n",
    "    `target_class_ids` has only one id value, the IoU of that specific class is\n",
    "    returned.\n",
    "\n",
    "    Args:\n",
    "    num_classes: The possible number of labels the prediction task can have.\n",
    "      A confusion matrix of dimension = [num_classes, num_classes] will be\n",
    "      allocated to accumulate predictions from which the metric is calculated.\n",
    "    target_class_ids: A tuple or list of target class ids for which the metric\n",
    "      is returned. To compute IoU for a specific class, a list (or tuple) of a\n",
    "      single id value should be provided.\n",
    "    name: (Optional) string name of the metric instance.\n",
    "    dtype: (Optional) data type of the metric result.\n",
    "\n",
    "    Standalone usage:\n",
    "\n",
    "    >>> # cm = [[1, 1],\n",
    "    >>> #        [1, 1]]\n",
    "    >>> # sum_row = [2, 2], sum_col = [2, 2], true_positives = [1, 1]\n",
    "    >>> # iou = true_positives / (sum_row + sum_col - true_positives))\n",
    "    >>> # iou = [0.33, 0.33]\n",
    "    >>> m = tf.keras.metrics.IoU(num_classes=2, target_class_id=[0])\n",
    "    >>> m.update_state([0, 0, 1, 1], [0, 1, 0, 1])\n",
    "    >>> m.result().numpy()\n",
    "    0.33333334\n",
    "\n",
    "    >>> m.reset_state()\n",
    "    >>> m.update_state([0, 0, 1, 1], [0, 1, 0, 1],\n",
    "    ...                sample_weight=[0.3, 0.3, 0.3, 0.1])\n",
    "    >>> # cm = [[0.3, 0.3],\n",
    "    >>> #        [0.3, 0.1]]\n",
    "    >>> # sum_row = [0.6, 0.4], sum_col = [0.6, 0.4], true_positives = [0.3, 0.1]\n",
    "    >>> # iou = [0.33, 0.14]\n",
    "    >>> m.result().numpy()\n",
    "    0.33\n",
    "\n",
    "    Usage with `compile()` API:\n",
    "\n",
    "    ```python\n",
    "    model.compile(\n",
    "    optimizer='sgd',\n",
    "    loss='mse',\n",
    "    metrics=[tf.keras.metrics.IoU(num_classes=2, target_class_id=[0])])\n",
    "    ```\n",
    "    \"\"\"\n",
    "\n",
    "\n",
    "    def __init__(\n",
    "      self,\n",
    "      num_classes: int,\n",
    "      target_class_ids: Union[List[int], Tuple[int, ...]],\n",
    "      name=None,\n",
    "      dtype=None,\n",
    "    ):\n",
    "        super(IoU, self).__init__(\n",
    "            name=name,\n",
    "            num_classes=num_classes,\n",
    "            dtype=dtype,\n",
    "        )\n",
    "        if max(target_class_ids) >= num_classes:\n",
    "            raise ValueError(\n",
    "                 f'Target class id {max(target_class_ids)} is out of range, which is '\n",
    "                 f'[{0}, {num_classes}).')\n",
    "        self.target_class_ids = list(target_class_ids)\n",
    "\n",
    "\n",
    "    def result(self):\n",
    "        \"\"\"Compute the intersection-over-union via the confusion matrix.\"\"\"\n",
    "        sum_over_row = tf.cast(\n",
    "            tf.reduce_sum(self.total_cm, axis=0), dtype=self._dtype)\n",
    "        sum_over_col = tf.cast(\n",
    "            tf.reduce_sum(self.total_cm, axis=1), dtype=self._dtype)\n",
    "        true_positives = tf.cast(\n",
    "            tf.linalg.tensor_diag_part(self.total_cm), dtype=self._dtype)\n",
    "\n",
    "\n",
    "        # sum_over_row + sum_over_col =\n",
    "        #     2 * true_positives + false_positives + false_negatives.\n",
    "        denominator = sum_over_row + sum_over_col - true_positives\n",
    "\n",
    "\n",
    "        # Only keep the target classes\n",
    "        true_positives = tf.gather(true_positives, self.target_class_ids)\n",
    "        denominator = tf.gather(denominator, self.target_class_ids)\n",
    "\n",
    "\n",
    "        # If the denominator is 0, we need to ignore the class.\n",
    "        num_valid_entries = tf.reduce_sum(\n",
    "            tf.cast(tf.not_equal(denominator, 0), dtype=self._dtype))\n",
    "\n",
    "\n",
    "        iou = tf.math.divide_no_nan(true_positives, denominator)\n",
    "\n",
    "\n",
    "        return tf.math.divide_no_nan(\n",
    "            tf.reduce_sum(iou, name='mean_iou'), num_valid_entries)\n",
    "\n",
    "\n",
    "    def get_config(self):\n",
    "        config = {\n",
    "            'num_classes': self.num_classes,\n",
    "            'target_class_ids': self.target_class_ids,\n",
    "        }\n",
    "        base_config = super(IoU, self).get_config()\n",
    "        return dict(list(base_config.items()) + list(config.items()))"
   ]
  },
  {
   "cell_type": "code",
   "execution_count": 39,
   "id": "e4d95917",
   "metadata": {},
   "outputs": [],
   "source": [
    "def get_new_miou(target_class):\n",
    "    return IoU(NUM_CLASSES, [target_class])"
   ]
  },
  {
   "cell_type": "code",
   "execution_count": 40,
   "id": "509e00f1",
   "metadata": {},
   "outputs": [],
   "source": [
    "def get_iou_for_every_class(images_list, masks_list, model, save_dir=None):\n",
    "    \n",
    "    iou = []\n",
    "    \n",
    "    m_1 = get_new_miou(0) \n",
    "    m_2 = get_new_miou(1) \n",
    "    m_3 = get_new_miou(2) \n",
    "    m_4 = get_new_miou(3)\n",
    "    m_5 = get_new_miou(4) \n",
    "\n",
    "    for image_file, mask_file in zip(images_list, masks_list):\n",
    "\n",
    "        image_tensor = read_image(image_file)\n",
    "\n",
    "        mask_tensor = read_image(mask_file, mask=True)\n",
    "        mask_tensor = mask_tensor[..., 0]\n",
    "\n",
    "        prediction_mask = infer(image_tensor=image_tensor, model=model)\n",
    "          \n",
    "        for m in [m_1, m_2, m_3, m_4, m_5]:\n",
    "            m.update_state([mask_tensor], [prediction_mask])\n",
    "            \n",
    "    for m in [m_1, m_2, m_3, m_4, m_5]:\n",
    "        iou.append(m.result().numpy())\n",
    "    \n",
    "    df = pd.DataFrame(iou,\n",
    "                      index=[i for i in CLASS_NAMES],\n",
    "                      columns=['IoU score'])\n",
    "    if save_dir is not None:\n",
    "        save_path = save_dir + '/iou_for_every_class.csv'\n",
    "        df.to_csv(save_path, sep='\\t')\n",
    "        print(f'CSV saved to {save_path}')\n",
    "    else:\n",
    "        print('CSV won\\'t be saved')\n",
    "\n",
    "    return df"
   ]
  },
  {
   "cell_type": "markdown",
   "id": "0c62fcc2",
   "metadata": {},
   "source": [
    "### Confusion matrix\n"
   ]
  },
  {
   "cell_type": "code",
   "execution_count": 41,
   "id": "b5639ecc",
   "metadata": {},
   "outputs": [],
   "source": [
    "from pretty_confusion_matrix import pp_matrix"
   ]
  },
  {
   "cell_type": "code",
   "execution_count": 42,
   "id": "5adda949",
   "metadata": {},
   "outputs": [],
   "source": [
    "# def data_generator(image_list, mask_list, augmentation=False, factor=1):\n",
    "    \n",
    "#     \"\"\"\n",
    "#     Returns augmented or not augmented dataset with the same amount of elements.\n",
    "    \n",
    "#     Args:\n",
    "#     image_list: list of paths to each image\n",
    "#     mask_list: list of paths to corresponding masks of images (sorted)\n",
    "#     augmentation: \"True\" for getting augmeneted images and masks\n",
    "#     \"\"\"\n",
    "    \n",
    "#     dataset = tf.data.Dataset.from_tensor_slices((image_list, mask_list))\n",
    "\n",
    "#     dataset = dataset.map(load_data, num_parallel_calls=tf.data.AUTOTUNE)\n",
    "        \n",
    "#     dataset = dataset.batch(1, drop_remainder=True)\n",
    "    \n",
    "#     return dataset\n",
    "\n",
    "\n",
    "# test_images = sorted(glob(os.path.join(TEST_PATH, \"images/img/*\")))\n",
    "# test_masks = sorted(glob(os.path.join(TEST_PATH, \"masks/img/*\")))\n"
   ]
  },
  {
   "cell_type": "code",
   "execution_count": 43,
   "id": "e96b9ca9",
   "metadata": {},
   "outputs": [],
   "source": [
    "def get_predictions_and_lables(dataset, predictive_model):\n",
    "\n",
    "    i = 0\n",
    "    \n",
    "    for x, y in dataset:\n",
    "        \n",
    "        if i == 0:\n",
    "            predictions = tf.argmax(predictive_model.predict(x), axis=-1)\n",
    "            labels = y[..., 0]\n",
    "     \n",
    "        elif i > 0:\n",
    "            mask_pred = tf.argmax(predictive_model.predict(x), axis=-1)\n",
    "            predictions = tf.concat([predictions, mask_pred], axis=0)\n",
    "            labels = tf.concat([labels, y[..., 0]], axis=0)\n",
    "\n",
    "        i += 1\n",
    "        \n",
    "    labels = tf.reshape(labels, [labels.shape[0] * labels.shape[1] * labels.shape[2]])\n",
    "    predictions = tf.reshape(predictions, [predictions.shape[0] * predictions.shape[1] * predictions.shape[2]])\n",
    "\n",
    "#     matrix = tf.math.confusion_matrix(labels=labels, predictions=predictions).numpy()\n",
    "\n",
    "#     df_matrix = pd.DataFrame(matrix, index = [i for i in range(NUM_CLASSES)],\n",
    "#                       columns = [i for i in range(NUM_CLASSES)])\n",
    "\n",
    "#     pp_matrix(df_matrix, cmap=\"magma\")\n",
    "    \n",
    "    return predictions, labels"
   ]
  },
  {
   "cell_type": "code",
   "execution_count": 44,
   "id": "d41ce13f",
   "metadata": {
    "scrolled": false
   },
   "outputs": [],
   "source": [
    "def get_and_display_confusion_matrix(model, num_classes):\n",
    "    \n",
    "    df_matrix = pd.DataFrame(0, index = [i for i in range(num_classes)], \n",
    "                             columns = [i for i in range(num_classes)]) \n",
    "\n",
    "    step = 6\n",
    "\n",
    "    for i in range(0, NUM_TEST_IMAGES, step):\n",
    "\n",
    "        left = int(i)\n",
    "        right = int(i + step)\n",
    "\n",
    "        test_dataset = data_generator(test_images[left: right], test_masks[left: right])\n",
    "\n",
    "        predictions, labels = get_predictions_and_lables(test_dataset, model)\n",
    "\n",
    "        matrix = tf.math.confusion_matrix(labels=labels, predictions=predictions, num_classes=num_classes).numpy()\n",
    "\n",
    "        batch_df = pd.DataFrame(matrix, index = [i for i in range(num_classes)],\n",
    "                          columns = [i for i in range(num_classes)])    \n",
    "\n",
    "        df_matrix += batch_df\n",
    "\n",
    "    pp_matrix(df_matrix, cmap=\"magma\")\n",
    "\n",
    "    return df_matrix"
   ]
  },
  {
   "cell_type": "markdown",
   "id": "2220aa86",
   "metadata": {},
   "source": [
    "## Train model with dice loss"
   ]
  },
  {
   "cell_type": "markdown",
   "id": "5a755e45",
   "metadata": {},
   "source": [
    "### Model checkpoint"
   ]
  },
  {
   "cell_type": "code",
   "execution_count": 45,
   "id": "52b3c08b",
   "metadata": {},
   "outputs": [],
   "source": [
    "path_best_dice_loss = ABS_PATH + f'/notebooks/exploratory/results/DeepLabv3+/{VERSION}_no_low_quality_masks/best_miou/checkpoint'\n",
    "dir_path_dice_loss= ABS_PATH + f'/notebooks/exploratory/results/DeepLabv3+/{VERSION}_no_low_quality_masks/best_miou'\n",
    "\n",
    "for path in [dir_path_dice_loss]:\n",
    "    if not os.path.exists(path):\n",
    "        os.makedirs(path)"
   ]
  },
  {
   "cell_type": "code",
   "execution_count": 46,
   "id": "83b6c053",
   "metadata": {},
   "outputs": [],
   "source": [
    "best_miou_dice_loss = tf.keras.callbacks.ModelCheckpoint(\n",
    "    path_best_dice_loss,\n",
    "    monitor='val_mIoU',\n",
    "    verbose=1,\n",
    "    save_best_only=True,\n",
    "    save_weights_only=True,\n",
    "    mode='max',\n",
    "    save_freq='epoch'\n",
    ")"
   ]
  },
  {
   "cell_type": "markdown",
   "id": "8c3b6e18",
   "metadata": {},
   "source": [
    "### Soft dice loss"
   ]
  },
  {
   "cell_type": "code",
   "execution_count": 47,
   "id": "35f338fb",
   "metadata": {},
   "outputs": [],
   "source": [
    "# https://gist.github.com/jeremyjordan/9ea3032a32909f71dd2ab35fe3bacc08#file-soft_dice_loss-py\n",
    "\n",
    "def soft_dice_loss(y_true, y_pred, epsilon=1e-6): \n",
    "    ''' \n",
    "    Soft dice loss calculation for arbitrary batch size, number of classes, and number of spatial dimensions.\n",
    "    Assumes the `channels_last` format.\n",
    "  \n",
    "    # Arguments\n",
    "        y_true: b x X x Y( x Z...) x c One hot encoding of ground truth\n",
    "        y_pred: b x X x Y( x Z...) x c Network output, must sum to 1 over c channel (such as after softmax) \n",
    "        epsilon: Used for numerical stability to avoid divide by zero errors\n",
    "    \n",
    "    # References\n",
    "        V-Net: Fully Convolutional Neural Networks for Volumetric Medical Image Segmentation \n",
    "        https://arxiv.org/abs/1606.04797\n",
    "        More details on Dice loss formulation \n",
    "        https://mediatum.ub.tum.de/doc/1395260/1395260.pdf (page 72)\n",
    "        \n",
    "        Adapted from https://github.com/Lasagne/Recipes/issues/99#issuecomment-347775022\n",
    "    '''\n",
    "    \n",
    "    if y_true.shape[-1]==1:\n",
    "        y_true = mask_to_categorical(y_true, NUM_CLASSES)\n",
    "    \n",
    "    # skip the batch and class axis for calculating Dice score\n",
    "    axes = tuple(range(1, len(y_pred.shape)-1)) \n",
    "    numerator = 2. * tf.reduce_sum(y_pred * y_true, axes)\n",
    "    denominator = tf.reduce_sum(tf.square(y_pred) + tf.square(y_true), axes)\n",
    "    \n",
    "    return 1 - tf.reduce_mean((numerator + epsilon) / (denominator + epsilon)) # average over classes and batch"
   ]
  },
  {
   "cell_type": "markdown",
   "id": "ceeaee28",
   "metadata": {},
   "source": [
    "### Model"
   ]
  },
  {
   "cell_type": "code",
   "execution_count": 48,
   "id": "7d89c80f",
   "metadata": {},
   "outputs": [],
   "source": [
    "model = get_deeplab_model(weights='cityscapes', freeze_border=324)"
   ]
  },
  {
   "cell_type": "code",
   "execution_count": 49,
   "id": "db8b37f6",
   "metadata": {},
   "outputs": [],
   "source": [
    "# tf.keras.utils.plot_model(model, to_file='Deeplabv3+.jpg', show_shapes=True)"
   ]
  },
  {
   "cell_type": "code",
   "execution_count": 49,
   "id": "d1d08144",
   "metadata": {},
   "outputs": [],
   "source": [
    "model.compile(\n",
    "    optimizer=tf.keras.optimizers.Adam(learning_rate=0.001),\n",
    "    loss=soft_dice_loss,\n",
    "    metrics=[\"accuracy\", custom_mIoU_metric]\n",
    ")"
   ]
  },
  {
   "cell_type": "code",
   "execution_count": null,
   "id": "e822bdf5",
   "metadata": {
    "scrolled": false
   },
   "outputs": [
    {
     "name": "stdout",
     "output_type": "stream",
     "text": [
      "Epoch 1/30\n",
      "1613/7357 [=====>........................] - ETA: 14:06 - loss: 0.7032 - accuracy: 0.6259 - mIoU: 0.2885"
     ]
    }
   ],
   "source": [
    "history = model.fit(train_dataset, \n",
    "                    validation_data=val_dataset, \n",
    "                    epochs=30,\n",
    "                    callbacks=[early_stopping_val_mIoU,\n",
    "                               best_miou_dice_loss]\n",
    "                   )\n"
   ]
  },
  {
   "cell_type": "code",
   "execution_count": null,
   "id": "d9c74a39",
   "metadata": {},
   "outputs": [],
   "source": [
    "plt.plot(history.history[\"loss\"])\n",
    "plt.title(\"Training Loss (Epoch)\")\n",
    "plt.ylabel(\"loss\")\n",
    "plt.xlabel(\"Epoch\")\n",
    "plt.show()\n",
    "\n",
    "plt.plot(history.history[\"mIoU\"])\n",
    "plt.title(\"Training mIoU (Epoch)\")\n",
    "plt.ylabel(\"mIoU\")\n",
    "plt.xlabel(\"Epoch\")\n",
    "plt.show()\n",
    "\n",
    "plt.plot(history.history[\"val_loss\"])\n",
    "plt.title(\"Validation Loss (Epoch)\")\n",
    "plt.ylabel(\"Validation Loss\")\n",
    "plt.xlabel(\"Epoch\")\n",
    "plt.show()\n",
    "\n",
    "plt.plot(history.history[\"val_mIoU\"])\n",
    "plt.title(\"Validation mIoU (Epoch)\")\n",
    "plt.ylabel(\"Validation mIoU\")\n",
    "plt.xlabel(\"Epoch\")\n",
    "plt.show()"
   ]
  },
  {
   "cell_type": "markdown",
   "id": "2d748838",
   "metadata": {},
   "source": [
    "### Evaluate the model"
   ]
  },
  {
   "cell_type": "code",
   "execution_count": null,
   "id": "01c1eb5a",
   "metadata": {},
   "outputs": [],
   "source": [
    "model.load_weights(path_best_dice_loss)"
   ]
  },
  {
   "cell_type": "code",
   "execution_count": null,
   "id": "a9d25ca3",
   "metadata": {},
   "outputs": [],
   "source": [
    "left_range = 448\n",
    "right_range = 455\n",
    "\n",
    "plot_predictions(test_images[left_range:right_range],\n",
    "                 test_masks[left_range:right_range],\n",
    "                 colormap,\n",
    "                 model=model)"
   ]
  },
  {
   "cell_type": "code",
   "execution_count": null,
   "id": "1a261b5f",
   "metadata": {},
   "outputs": [],
   "source": [
    "get_miou_for_images(test_images, test_masks, model)"
   ]
  },
  {
   "cell_type": "code",
   "execution_count": null,
   "id": "06c01152",
   "metadata": {
    "scrolled": false
   },
   "outputs": [],
   "source": [
    "get_and_display_confusion_matrix(model, NUM_CLASSES)"
   ]
  },
  {
   "cell_type": "code",
   "execution_count": null,
   "id": "6ce7fd0c",
   "metadata": {},
   "outputs": [],
   "source": [
    "every_class_iou = get_iou_for_every_class(test_images, test_masks, model)\n",
    "every_class_iou"
   ]
  },
  {
   "cell_type": "markdown",
   "id": "cf9c1265",
   "metadata": {},
   "source": [
    "### Decrease learning rate and continue training"
   ]
  },
  {
   "cell_type": "code",
   "execution_count": null,
   "id": "948a2176",
   "metadata": {},
   "outputs": [],
   "source": [
    "path_best_dice_loss_2 = ABS_PATH + f'/notebooks/exploratory/results/DeepLabv3+/{VERSION}_no_low_quality_masks/best_miou_2/checkpoint'\n",
    "dir_path_dice_loss_2= ABS_PATH + f'/notebooks/exploratory/results/DeepLabv3+/{VERSION}_no_low_quality_masks/best_miou_2'\n",
    "\n",
    "for path in [dir_path_dice_loss_2]:\n",
    "    if not os.path.exists(path):\n",
    "        os.makedirs(path)"
   ]
  },
  {
   "cell_type": "code",
   "execution_count": null,
   "id": "c1489d40",
   "metadata": {},
   "outputs": [],
   "source": [
    "best_miou_dice_loss_2 = tf.keras.callbacks.ModelCheckpoint(\n",
    "    path_best_dice_loss_2,\n",
    "    monitor='val_mIoU',\n",
    "    verbose=1,\n",
    "    save_best_only=True,\n",
    "    save_weights_only=True,\n",
    "    mode='max',\n",
    "    save_freq='epoch'\n",
    ")"
   ]
  },
  {
   "cell_type": "code",
   "execution_count": null,
   "id": "e1378f89",
   "metadata": {},
   "outputs": [],
   "source": [
    "model.load_weights(path_best_dice_loss)"
   ]
  },
  {
   "cell_type": "code",
   "execution_count": null,
   "id": "57de0575",
   "metadata": {},
   "outputs": [],
   "source": [
    "model.compile(\n",
    "    optimizer=tf.keras.optimizers.Adam(learning_rate=10e-6),\n",
    "    loss=soft_dice_loss,\n",
    "    metrics=[\"accuracy\", custom_mIoU_metric]\n",
    ")"
   ]
  },
  {
   "cell_type": "code",
   "execution_count": null,
   "id": "76f0b85a",
   "metadata": {
    "scrolled": false
   },
   "outputs": [],
   "source": [
    "history = model.fit(train_dataset, \n",
    "                    validation_data=val_dataset, \n",
    "                    epochs=30,\n",
    "                    callbacks=[early_stopping_val_mIoU,\n",
    "                              best_miou_dice_loss_2]\n",
    "                   )\n"
   ]
  },
  {
   "cell_type": "code",
   "execution_count": null,
   "id": "c63a02e0",
   "metadata": {},
   "outputs": [],
   "source": [
    "make_model_history_plots(history)"
   ]
  },
  {
   "cell_type": "markdown",
   "id": "e5552900",
   "metadata": {},
   "source": [
    "### Evaluate the model"
   ]
  },
  {
   "cell_type": "code",
   "execution_count": null,
   "id": "dc2dcb5e",
   "metadata": {},
   "outputs": [],
   "source": [
    "model.load_weights(path_best_dice_loss_2)"
   ]
  },
  {
   "cell_type": "code",
   "execution_count": null,
   "id": "ebe11e1d",
   "metadata": {},
   "outputs": [],
   "source": [
    "left_range = 448\n",
    "right_range = 455\n",
    "\n",
    "plot_predictions(test_images[left_range:right_range],\n",
    "                 test_masks[left_range:right_range],\n",
    "                 colormap,\n",
    "                 model=model)"
   ]
  },
  {
   "cell_type": "code",
   "execution_count": null,
   "id": "c3a70b22",
   "metadata": {
    "scrolled": true
   },
   "outputs": [],
   "source": [
    "get_miou_for_images(test_images, test_masks, model)"
   ]
  },
  {
   "cell_type": "code",
   "execution_count": null,
   "id": "d9e7550c",
   "metadata": {
    "scrolled": false
   },
   "outputs": [],
   "source": [
    "get_and_display_confusion_matrix(model, NUM_CLASSES)"
   ]
  },
  {
   "cell_type": "code",
   "execution_count": null,
   "id": "da05ef26",
   "metadata": {},
   "outputs": [],
   "source": [
    "every_class_iou = get_iou_for_every_class(test_images, test_masks, model, dir_path_dice_loss_2)\n",
    "every_class_iou"
   ]
  },
  {
   "cell_type": "code",
   "execution_count": null,
   "id": "ebb0f50f",
   "metadata": {},
   "outputs": [],
   "source": [
    "model.evaluate(test_dataset)"
   ]
  },
  {
   "cell_type": "markdown",
   "id": "49853502",
   "metadata": {},
   "source": [
    "## Decrease lr and continue training"
   ]
  },
  {
   "cell_type": "markdown",
   "id": "a04a5d7c",
   "metadata": {},
   "source": [
    "### Model checkpoint"
   ]
  },
  {
   "cell_type": "code",
   "execution_count": null,
   "id": "20e8ff1e",
   "metadata": {},
   "outputs": [],
   "source": [
    "def get_best_miou_callback_and_path_to_weights(num_string):\n",
    "    path_best_dice_loss = ABS_PATH + f'/notebooks/exploratory/results/DeepLabv3+/{VERSION}_soft_dice_loss/best_miou_{num_string}/checkpoint'\n",
    "    dir_path_dice_loss= ABS_PATH + f'/notebooks/exploratory/results/DeepLabv3+/{VERSION}_soft_dice_loss/best_miou_{num_string}'\n",
    "    \n",
    "    if os.path.exists(dir_path_dice_loss):\n",
    "        print(\"Folder already exists. Change checkpoint number if you don't want to replace previous weights.\")\n",
    "    else:\n",
    "        os.makedirs(dir_path_dice_loss)\n",
    "\n",
    "    best_miou_dice_loss= tf.keras.callbacks.ModelCheckpoint(\n",
    "        path_best_dice_loss,\n",
    "        monitor='val_mIoU',\n",
    "        verbose=1,\n",
    "        save_best_only=True,\n",
    "        save_weights_only=True,\n",
    "        mode='max',\n",
    "        save_freq='epoch'\n",
    "        )\n",
    "    \n",
    "    return best_miou_dice_loss, path_best_dice_loss"
   ]
  },
  {
   "cell_type": "code",
   "execution_count": null,
   "id": "31993d5b",
   "metadata": {},
   "outputs": [],
   "source": [
    "best_miou_3, path_best_3 = get_best_miou_callback_and_path_to_weights('3')"
   ]
  },
  {
   "cell_type": "code",
   "execution_count": null,
   "id": "f2881095",
   "metadata": {},
   "outputs": [],
   "source": [
    "model = get_deeplab_model(freeze_border=244)"
   ]
  },
  {
   "cell_type": "code",
   "execution_count": null,
   "id": "e928b100",
   "metadata": {},
   "outputs": [],
   "source": [
    "model.load_weights(path_best_dice_loss_2)"
   ]
  },
  {
   "cell_type": "code",
   "execution_count": null,
   "id": "45c9ff71",
   "metadata": {},
   "outputs": [],
   "source": [
    "model.compile(\n",
    "    optimizer=tf.keras.optimizers.Adam(learning_rate=10e-7),\n",
    "    loss=soft_dice_loss,\n",
    "    metrics=[\"accuracy\", custom_mIoU_metric]\n",
    ")"
   ]
  },
  {
   "cell_type": "code",
   "execution_count": null,
   "id": "b6e6d1d5",
   "metadata": {
    "scrolled": false
   },
   "outputs": [],
   "source": [
    "history_3 = model.fit(train_dataset, \n",
    "                    validation_data=val_dataset, \n",
    "                    epochs=30,\n",
    "                    callbacks=[early_stopping_val_mIoU,\n",
    "                              best_miou_3]\n",
    "                   )\n"
   ]
  },
  {
   "cell_type": "code",
   "execution_count": null,
   "id": "e02f5636",
   "metadata": {},
   "outputs": [],
   "source": [
    "model.evaluate(test_dataset)"
   ]
  },
  {
   "cell_type": "code",
   "execution_count": null,
   "id": "2d1b4f8f",
   "metadata": {},
   "outputs": [],
   "source": [
    "make_model_history_plots(history_3)"
   ]
  },
  {
   "cell_type": "markdown",
   "id": "30ec1406",
   "metadata": {},
   "source": [
    "# Go back to first saved weights"
   ]
  },
  {
   "cell_type": "code",
   "execution_count": null,
   "id": "5275dea6",
   "metadata": {},
   "outputs": [],
   "source": [
    "model = get_deeplab_model(freeze_border=276)"
   ]
  },
  {
   "cell_type": "code",
   "execution_count": null,
   "id": "1266b86b",
   "metadata": {},
   "outputs": [],
   "source": [
    "model.load_weights(path_best_dice_loss)"
   ]
  },
  {
   "cell_type": "code",
   "execution_count": null,
   "id": "6519dc09",
   "metadata": {},
   "outputs": [],
   "source": [
    "best_miou_4, path_best_4 = get_best_miou_callback_and_path_to_weights('4')"
   ]
  },
  {
   "cell_type": "code",
   "execution_count": null,
   "id": "7975ef5d",
   "metadata": {},
   "outputs": [],
   "source": [
    "model.compile(\n",
    "    optimizer=tf.keras.optimizers.Adam(learning_rate=0.00001),\n",
    "    loss=soft_dice_loss,\n",
    "    metrics=[\"accuracy\", custom_mIoU_metric]\n",
    ")"
   ]
  },
  {
   "cell_type": "code",
   "execution_count": null,
   "id": "641eef0d",
   "metadata": {},
   "outputs": [],
   "source": [
    "history_4 = model.fit(train_dataset, \n",
    "                     validation_data=val_dataset, \n",
    "                     epochs=30,\n",
    "                     callbacks=[early_stopping_val_mIoU,\n",
    "                                best_miou_4]\n",
    "                    )"
   ]
  },
  {
   "cell_type": "code",
   "execution_count": null,
   "id": "021627b8",
   "metadata": {},
   "outputs": [],
   "source": [
    "left_range = 448\n",
    "right_range = 455\n",
    "\n",
    "plot_predictions(test_images[left_range:right_range],\n",
    "                 test_masks[left_range:right_range],\n",
    "                 colormap,\n",
    "                 model=model)"
   ]
  },
  {
   "cell_type": "code",
   "execution_count": null,
   "id": "2084c7a0",
   "metadata": {
    "scrolled": true
   },
   "outputs": [],
   "source": [
    "get_iou_for_every_class(test_images, test_masks, model)"
   ]
  },
  {
   "cell_type": "code",
   "execution_count": null,
   "id": "947a49a7",
   "metadata": {},
   "outputs": [],
   "source": [
    "model = get_deeplab_model()"
   ]
  },
  {
   "cell_type": "code",
   "execution_count": null,
   "id": "f35f6cf9",
   "metadata": {},
   "outputs": [],
   "source": [
    "model.load_weights(path_best_4)"
   ]
  },
  {
   "cell_type": "code",
   "execution_count": null,
   "id": "73a5f2d4",
   "metadata": {},
   "outputs": [],
   "source": [
    "left_range = 448\n",
    "right_range = 455\n",
    "\n",
    "plot_predictions(test_images[left_range:right_range],\n",
    "                 test_masks[left_range:right_range],\n",
    "                 colormap,\n",
    "                 model=model)"
   ]
  },
  {
   "cell_type": "code",
   "execution_count": 2,
   "id": "e3dd5d2f",
   "metadata": {
    "scrolled": true
   },
   "outputs": [
    {
     "ename": "NameError",
     "evalue": "name 'get_iou_for_every_class' is not defined",
     "output_type": "error",
     "traceback": [
      "\u001b[0;31m---------------------------------------------------------------------------\u001b[0m",
      "\u001b[0;31mNameError\u001b[0m                                 Traceback (most recent call last)",
      "\u001b[0;32m<ipython-input-2-455daa2887bc>\u001b[0m in \u001b[0;36m<module>\u001b[0;34m\u001b[0m\n\u001b[0;32m----> 1\u001b[0;31m \u001b[0mget_iou_for_every_class\u001b[0m\u001b[0;34m(\u001b[0m\u001b[0mtest_images\u001b[0m\u001b[0;34m,\u001b[0m \u001b[0mtest_masks\u001b[0m\u001b[0;34m,\u001b[0m \u001b[0mmodel\u001b[0m\u001b[0;34m)\u001b[0m\u001b[0;34m\u001b[0m\u001b[0;34m\u001b[0m\u001b[0m\n\u001b[0m",
      "\u001b[0;31mNameError\u001b[0m: name 'get_iou_for_every_class' is not defined"
     ]
    }
   ],
   "source": [
    "get_iou_for_every_class(test_images, test_masks, model)"
   ]
  },
  {
   "cell_type": "code",
   "execution_count": null,
   "id": "f705df21",
   "metadata": {},
   "outputs": [],
   "source": [
    "model.compile(\n",
    "    optimizer=tf.keras.optimizers.Adam(learning_rate=0.00001),\n",
    "    loss=soft_dice_loss,\n",
    "    metrics=[\"accuracy\", custom_mIoU_metric]\n",
    ")\n",
    "\n",
    "model.evaluate(test_dataset)"
   ]
  },
  {
   "cell_type": "markdown",
   "id": "8d445ac5",
   "metadata": {},
   "source": [
    "# Evaluate best model on modified test dataset "
   ]
  },
  {
   "cell_type": "code",
   "execution_count": null,
   "id": "06eda086",
   "metadata": {},
   "outputs": [],
   "source": [
    "file_names = ['test_images', 'test_masks']\n",
    "\n",
    "data_lists = [test_images, test_masks]\n",
    "\n",
    "remove_file_paths_according_to_previously_generated_txt(file_names, data_lists)"
   ]
  },
  {
   "cell_type": "code",
   "execution_count": null,
   "id": "b6dccfcb",
   "metadata": {},
   "outputs": [],
   "source": [
    "test_dataset = data_generator(test_images, test_masks)\n",
    "print(\"Test Dataset:\", test_dataset)\n",
    "print(\"Number of images in Val Dataset:\", BATCH_SIZE * len(test_dataset))"
   ]
  },
  {
   "cell_type": "code",
   "execution_count": null,
   "id": "642412e6",
   "metadata": {},
   "outputs": [],
   "source": [
    "model = get_deeplab_model(weights=None)"
   ]
  },
  {
   "cell_type": "code",
   "execution_count": null,
   "id": "4a5023aa",
   "metadata": {},
   "outputs": [],
   "source": [
    "model.load_weights(path_best_dice_loss_2)"
   ]
  },
  {
   "cell_type": "code",
   "execution_count": null,
   "id": "cd8f784d",
   "metadata": {},
   "outputs": [],
   "source": [
    "model.compile(\n",
    "    optimizer=tf.keras.optimizers.Adam(learning_rate=10e-6),\n",
    "    loss=soft_dice_loss,\n",
    "    metrics=[\"accuracy\", custom_mIoU_metric]\n",
    ")"
   ]
  },
  {
   "cell_type": "code",
   "execution_count": null,
   "id": "f6ba8842",
   "metadata": {},
   "outputs": [],
   "source": [
    "model.evaluate(test_dataset)"
   ]
  },
  {
   "cell_type": "code",
   "execution_count": null,
   "id": "23945da8",
   "metadata": {},
   "outputs": [],
   "source": []
  }
 ],
 "metadata": {
  "kernelspec": {
   "display_name": "Tensorflow GPU (Python 3.7)",
   "language": "python",
   "name": "tensorflow"
  },
  "language_info": {
   "codemirror_mode": {
    "name": "ipython",
    "version": 3
   },
   "file_extension": ".py",
   "mimetype": "text/x-python",
   "name": "python",
   "nbconvert_exporter": "python",
   "pygments_lexer": "ipython3",
   "version": "3.8.10"
  }
 },
 "nbformat": 4,
 "nbformat_minor": 5
}
