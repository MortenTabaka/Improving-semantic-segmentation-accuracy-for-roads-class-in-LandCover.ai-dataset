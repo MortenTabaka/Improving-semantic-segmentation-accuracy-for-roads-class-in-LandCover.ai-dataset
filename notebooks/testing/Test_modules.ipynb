{
 "cells": [
  {
   "cell_type": "code",
   "execution_count": null,
   "outputs": [],
   "source": [
    "import pretty_confusion_matrix as pcm\n",
    "from tensorflow.compat.v1 import ConfigProto\n",
    "from tensorflow.compat.v1 import InteractiveSession\n",
    "\n",
    "from src.features.evaluation_utils import ConfusionMatrix, PredictionIoU\n",
    "from src.models.train_model import Model\n",
    "from src.features.dataset import Dataset\n",
    "from src.visualization.visualize import PredictionMasks\n",
    "\n",
    "\n",
    "config = ConfigProto()\n",
    "config.gpu_options.allow_growth = True\n",
    "session = InteractiveSession(config=config)\n",
    "\n",
    "ABS_PATH = %pwd\n",
    "\n",
    "notebook_path = [idx for idx,ch in enumerate(ABS_PATH) if ch=='/']\n",
    "notebooks_level_in_the_project = 2\n",
    "\n",
    "project_path = ABS_PATH[:notebook_path[-notebooks_level_in_the_project]]"
   ],
   "metadata": {
    "collapsed": false
   }
  },
  {
   "cell_type": "code",
   "execution_count": null,
   "outputs": [],
   "source": [
    "WEIGHTS_FILEPATH = project_path + \"/notebooks/exploratory/results/DeepLabv3+/9.1_modified_deeplab/best_dice_loss/checkpoint\""
   ],
   "metadata": {
    "collapsed": false
   }
  },
  {
   "cell_type": "code",
   "execution_count": null,
   "id": "003b949c",
   "metadata": {
    "scrolled": true
   },
   "outputs": [],
   "source": [
    "DATA_DIR = project_path + \"/data/processed/\"\n",
    "BATCH_SIZE = 2\n",
    "IMG_HEIGHT = 512\n",
    "IMG_WIDTH = 512\n",
    "NUM_CLASSES = 5\n",
    "\n",
    "\n",
    "model_creator = Model(IMG_HEIGHT, IMG_WIDTH, NUM_CLASSES)\n",
    "model = model_creator.get_deeplab_model(\n",
    "    weights=\"cityscapes\",\n",
    "    freeze_layers=True,\n",
    "    custom_freeze_border=359,\n",
    "    activation=\"softmax\",\n",
    ")\n",
    "\n",
    "model.load_weights(WEIGHTS_FILEPATH)\n",
    "landcover_dataset = Dataset(DATA_DIR, IMG_HEIGHT, IMG_WIDTH, NUM_CLASSES, BATCH_SIZE)\n",
    "train_dataset, val_dataset, test_dataset = landcover_dataset.generate_datasets()"
   ]
  },
  {
   "cell_type": "code",
   "execution_count": null,
   "outputs": [],
   "source": [
    "confusion_matrix = ConfusionMatrix(model, test_dataset, NUM_CLASSES).get_dataframe()\n",
    "pcm.pp_matrix(confusion_matrix)"
   ],
   "metadata": {
    "collapsed": false
   }
  },
  {
   "cell_type": "code",
   "execution_count": null,
   "outputs": [],
   "source": [
    "PredictionIoU(model, test_dataset, NUM_CLASSES).get_iou_for_every_class()"
   ],
   "metadata": {
    "collapsed": false
   }
  },
  {
   "cell_type": "code",
   "execution_count": null,
   "outputs": [],
   "source": [
    "PredictionMasks(model, landcover_dataset, NUM_CLASSES).display_overlay_predictions_for_test_set(3)"
   ],
   "metadata": {
    "collapsed": false
   }
  },
  {
   "cell_type": "code",
   "execution_count": null,
   "outputs": [],
   "source": [],
   "metadata": {
    "collapsed": false
   }
  }
 ],
 "metadata": {
  "kernelspec": {
   "name": "tensorflow",
   "language": "python",
   "display_name": "Tensorflow GPU (Python 3.7)"
  },
  "language_info": {
   "codemirror_mode": {
    "name": "ipython",
    "version": 3
   },
   "file_extension": ".py",
   "mimetype": "text/x-python",
   "name": "python",
   "nbconvert_exporter": "python",
   "pygments_lexer": "ipython3",
   "version": "3.8.10"
  }
 },
 "nbformat": 4,
 "nbformat_minor": 5
}
