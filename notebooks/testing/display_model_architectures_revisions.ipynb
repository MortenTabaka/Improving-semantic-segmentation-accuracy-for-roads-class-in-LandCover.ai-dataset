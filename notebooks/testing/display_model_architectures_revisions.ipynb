{
 "cells": [
  {
   "cell_type": "code",
   "execution_count": 1,
   "metadata": {
    "collapsed": true,
    "ExecuteTime": {
     "end_time": "2023-05-28T16:04:39.923480203Z",
     "start_time": "2023-05-28T16:04:39.040476629Z"
    }
   },
   "outputs": [
    {
     "name": "stdout",
     "output_type": "stream",
     "text": [
      "TensorFlow Version: 2.5.0\n",
      "\n",
      "Python 3.8.10 (default, Jun  4 2021, 15:09:15) \n",
      "[GCC 7.5.0]\n",
      "GPU is NOT AVAILABLE\n"
     ]
    }
   ],
   "source": [
    "import os.path as path\n",
    "import sys\n",
    "\n",
    "import tensorflow as tf\n",
    "\n",
    "from src.data.requests_downloader import UrlDownloader\n",
    "from src.models.model_builder import Model\n",
    "from tensorflow.keras.utils import plot_model\n",
    "import matplotlib.pyplot as plt\n",
    "\n",
    "print(f\"TensorFlow Version: {tf.__version__}\")\n",
    "print()\n",
    "print(f\"Python {sys.version}\")\n",
    "gpu = len(tf.config.list_physical_devices('GPU'))>0\n",
    "print(\"GPU is\", \"available\" if gpu else \"NOT AVAILABLE\")\n",
    "\n",
    "\n",
    "PROJECT_PATH = UrlDownloader().get_project_root()\n",
    "if PROJECT_PATH not in sys.path:\n",
    "    sys.path.append(PROJECT_PATH)\n",
    "\n",
    "def m2tex(model: tf.keras.Model, modelName: str, line_length: int):\n",
    "    \"\"\"\n",
    "    Source: https://github.com/intentodemusico/py2Tex\n",
    "    \"\"\"\n",
    "    stringlist = []\n",
    "    model.summary(line_length=line_length, print_fn=lambda x: stringlist.append(x))\n",
    "    del stringlist[1:-4:2]\n",
    "    del stringlist[-1]\n",
    "    first_vertical_border = int(31 / 70 * line_length)\n",
    "    second_vertical_border = int(59 / 70 * line_length)\n",
    "    for ix in range(1, len(stringlist) - 3):\n",
    "        tmp = stringlist[ix]\n",
    "        stringlist[ix] = tmp[0:first_vertical_border]+\"& \"+tmp[first_vertical_border:second_vertical_border]+\"& \"+tmp[second_vertical_border:]+\"\\\\\\\\ \\hline\"\n",
    "    stringlist[0] = \"Model: {} \\\\\\\\ \\hline\".format(modelName)\n",
    "    stringlist[1] += \" \\hline\"\n",
    "    stringlist[-4] += \" \\hline\"\n",
    "    stringlist[-3] += \" \\\\\\\\\"\n",
    "    stringlist[-2] += \" \\\\\\\\\"\n",
    "    stringlist[-1] += \" \\\\\\\\ \\hline\"\n",
    "    prefix = [\"\\\\begin{table}[]\", \"\\\\begin{tabular}{lll}\"]\n",
    "    suffix = [\"\\end{tabular}\", \"\\caption{{Model summary for {}.}}\".format(modelName), \"\\label{tab:model-summary}\" , \"\\end{table}\"]\n",
    "    stringlist = prefix + stringlist + suffix\n",
    "    out_str = \" \\n\".join(stringlist)\n",
    "    out_str = out_str.replace(\"_\", \"\\_\")\n",
    "    out_str = out_str.replace(\"#\", \"\\#\")\n",
    "    return out_str"
   ]
  },
  {
   "cell_type": "code",
   "execution_count": 7,
   "outputs": [],
   "source": [
    "version = \"original\"\n",
    "model = Model(\n",
    "    \"None\",\n",
    "    batch_size=4,\n",
    "    input_image_height=512,\n",
    "    input_image_width=512,\n",
    "    number_of_classes=5,\n",
    "    model_architecture=version\n",
    ").get_deeplab_model()\n",
    "\n",
    "export_path = path.join(PROJECT_PATH, f\"./data/architectures/{version}.png\")\n",
    "plot_model(model, to_file=export_path, show_shapes=True,show_dtype=False, expand_nested=True, dpi=500)\n",
    "plt.close()"
   ],
   "metadata": {
    "collapsed": false,
    "ExecuteTime": {
     "end_time": "2023-05-28T16:05:56.217526342Z",
     "start_time": "2023-05-28T16:05:51.348680966Z"
    }
   }
  },
  {
   "cell_type": "code",
   "execution_count": 15,
   "outputs": [
    {
     "name": "stdout",
     "output_type": "stream",
     "text": [
      "\\begin{table}[] \n",
      "\\begin{tabular}{lll} \n",
      "Model: Deeplabv3plus original \\\\ \\hline \n",
      "Layer (type)                                  &  Output Shape                             &  Param \\#         \\\\ \\hline \\hline \n",
      "input\\_2 (InputLayer)                          &  [(None, 512, 512, 3)]                    &  0               \\\\ \\hline \n",
      "entry\\_flow\\_conv1\\_1 (Conv2D)                   &  (None, 256, 256, 32)                     &  864             \\\\ \\hline \n",
      "entry\\_flow\\_conv1\\_1\\_BN (BatchNormalization)    &  (None, 256, 256, 32)                     &  128             \\\\ \\hline \n",
      "activation\\_87 (Activation)                    &  (None, 256, 256, 32)                     &  0               \\\\ \\hline \n",
      "entry\\_flow\\_conv1\\_2 (Conv2D)                   &  (None, 256, 256, 64)                     &  18432           \\\\ \\hline \n",
      "entry\\_flow\\_conv1\\_2\\_BN (BatchNormalization)    &  (None, 256, 256, 64)                     &  256             \\\\ \\hline \n",
      "activation\\_88 (Activation)                    &  (None, 256, 256, 64)                     &  0               \\\\ \\hline \n",
      "activation\\_89 (Activation)                    &  (None, 256, 256, 64)                     &  0               \\\\ \\hline \n",
      "entry\\_flow\\_block1\\_separable\\_conv1\\_depthwise (D&  (None, 256, 256, 64)                     &  576             \\\\ \\hline \n",
      "entry\\_flow\\_block1\\_separable\\_conv1\\_depthwise\\_BN&  (None, 256, 256, 64)                     &  256             \\\\ \\hline \n",
      "entry\\_flow\\_block1\\_separable\\_conv1\\_pointwise (C&  (None, 256, 256, 128)                    &  8192            \\\\ \\hline \n",
      "entry\\_flow\\_block1\\_separable\\_conv1\\_pointwise\\_BN&  (None, 256, 256, 128)                    &  512             \\\\ \\hline \n",
      "activation\\_90 (Activation)                    &  (None, 256, 256, 128)                    &  0               \\\\ \\hline \n",
      "entry\\_flow\\_block1\\_separable\\_conv2\\_depthwise (D&  (None, 256, 256, 128)                    &  1152            \\\\ \\hline \n",
      "entry\\_flow\\_block1\\_separable\\_conv2\\_depthwise\\_BN&  (None, 256, 256, 128)                    &  512             \\\\ \\hline \n",
      "entry\\_flow\\_block1\\_separable\\_conv2\\_pointwise (C&  (None, 256, 256, 128)                    &  16384           \\\\ \\hline \n",
      "entry\\_flow\\_block1\\_separable\\_conv2\\_pointwise\\_BN&  (None, 256, 256, 128)                    &  512             \\\\ \\hline \n",
      "zero\\_padding2d\\_6 (ZeroPadding2D)              &  (None, 258, 258, 128)                    &  0               \\\\ \\hline \n",
      "activation\\_91 (Activation)                    &  (None, 258, 258, 128)                    &  0               \\\\ \\hline \n",
      "entry\\_flow\\_block1\\_separable\\_conv3\\_depthwise (D&  (None, 128, 128, 128)                    &  1152            \\\\ \\hline \\hline \n",
      "Total params: 48,928 \\\\ \n",
      "Trainable params: 47,840 \\\\ \n",
      "Non-trainable params: 1,088 \\\\ \\hline \n",
      "\\end{tabular} \n",
      "\\caption{Model summary for Deeplabv3plus original.} \n",
      "\\label{tab:model-summary} \n",
      "\\end{table}\n"
     ]
    }
   ],
   "source": [
    "# Specify the indices of the layers you want to include in the summary\n",
    "selected_layer_indices = range(2, 20)\n",
    "\n",
    "# Create a new model with only the selected layers\n",
    "selected_layers_model = tf.keras.models.Model(\n",
    "    inputs=model.input,\n",
    "    outputs=[model.layers[i].output for i in selected_layer_indices]\n",
    ")\n",
    "\n",
    "print(m2tex(selected_layers_model, f\"Deeplabv3plus {version}\", 105))"
   ],
   "metadata": {
    "collapsed": false,
    "ExecuteTime": {
     "end_time": "2023-05-28T16:08:39.573722531Z",
     "start_time": "2023-05-28T16:08:39.571241804Z"
    }
   }
  },
  {
   "cell_type": "code",
   "execution_count": 6,
   "outputs": [],
   "source": [
    "text_file = path.join(PROJECT_PATH, f\"./data/architectures/{version}.txt\")\n",
    "sys.stdout = open(text_file, 'w')\n",
    "model.summary()\n",
    "sys.stdout.close()\n",
    "sys.stdout = sys.__stdout__"
   ],
   "metadata": {
    "collapsed": false,
    "ExecuteTime": {
     "end_time": "2023-05-28T15:55:18.166616180Z",
     "start_time": "2023-05-28T15:55:10.574493787Z"
    }
   }
  }
 ],
 "metadata": {
  "kernelspec": {
   "display_name": "Python 3",
   "language": "python",
   "name": "python3"
  },
  "language_info": {
   "codemirror_mode": {
    "name": "ipython",
    "version": 2
   },
   "file_extension": ".py",
   "mimetype": "text/x-python",
   "name": "python",
   "nbconvert_exporter": "python",
   "pygments_lexer": "ipython2",
   "version": "2.7.6"
  }
 },
 "nbformat": 4,
 "nbformat_minor": 0
}
