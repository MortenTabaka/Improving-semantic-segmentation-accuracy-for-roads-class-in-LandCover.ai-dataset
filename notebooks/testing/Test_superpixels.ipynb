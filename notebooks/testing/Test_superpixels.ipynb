{
 "cells": [
  {
   "cell_type": "code",
   "execution_count": null,
   "outputs": [],
   "source": [],
   "metadata": {
    "collapsed": false
   }
  },
  {
   "cell_type": "code",
   "execution_count": null,
   "outputs": [],
   "source": [
    "import numpy as np\n",
    "from skimage import segmentation\n",
    "from skimage.color import label2rgb\n",
    "from skimage.io import imread\n",
    "import matplotlib.pyplot as plt\n",
    "from tensorflow.keras.preprocessing.image import array_to_img\n",
    "import tensorflow as tf\n",
    "\n",
    "# Load image\n",
    "image_filepath = '/home/marcin/git_workspace/Thesis_project/Semantic-segmentation-of-LandCover.ai-dataset/models/custom_data/testing_slic/chelm_city_vertical2_horizontal9.jpg'\n",
    "\n",
    "image = imread(image_filepath)\n",
    "\n",
    "# Perform superpixel segmentation\n",
    "segments = segmentation.slic(image, n_segments=10, compactness=0.1, start_label=0)\n",
    "\n",
    "superpixel_boundaries = segmentation.mark_boundaries(image, segments, color=(1, 0, 0))\n",
    "\n",
    "# Create superpixel boundaries overlay\n",
    "image_segments = array_to_img(superpixel_boundaries)\n",
    "image_segments.save(\"/home/marcin/git_workspace/Thesis_project/Semantic-segmentation-of-LandCover.ai-dataset/models/custom_data/testing_slic/segments.png\")\n",
    "# Display the original image and the superpixel boundaries overlay\n",
    "fig, ax = plt.subplots(figsize=(10, 10))\n",
    "ax.imshow(superpixel_boundaries)\n",
    "ax.set_xticks([])\n",
    "ax.set_yticks([])\n",
    "plt.show()"
   ],
   "metadata": {
    "collapsed": false
   }
  },
  {
   "cell_type": "code",
   "execution_count": null,
   "outputs": [],
   "source": [
    "from src.data.image_postprocessing import ImagePostprocessor, SuperpixelsProcessor\n",
    "from src.pipelines.prediction_processor import PredictionPipeline\n",
    "from src.features.utils import get_absolute_path_to_project_location"
   ],
   "metadata": {
    "collapsed": false
   }
  },
  {
   "cell_type": "code",
   "execution_count": null,
   "outputs": [],
   "source": [
    "slic_params = {\n",
    "            \"n_segments\": 200,\n",
    "            \"compactness\": 10,\n",
    "            \"max_iter\": 10,\n",
    "            \"sigma\": 0,\n",
    "            \"spacing\": None,\n",
    "            \"multichannel\": True,\n",
    "            \"convert2lab\": None,\n",
    "            \"enforce_connectivity\": True,\n",
    "            \"min_size_factor\": 0.5,\n",
    "            \"max_size_factor\": 3,\n",
    "            \"slic_zero\": False,\n",
    "            \"start_label\": 0,\n",
    "            \"mask\": None,\n",
    "        }"
   ],
   "metadata": {
    "collapsed": false
   }
  },
  {
   "cell_type": "code",
   "execution_count": null,
   "outputs": [],
   "source": [
    "import cv2"
   ],
   "metadata": {
    "collapsed": false
   }
  },
  {
   "cell_type": "code",
   "execution_count": null,
   "outputs": [],
   "source": [
    "image = cv2.imread(\"/home/marcin/git_workspace/Thesis_project/Semantic-segmentation-of-LandCover.ai-dataset/models/custom_data/output/chelm_city_no_post.jpg\")\n"
   ],
   "metadata": {
    "collapsed": false
   }
  },
  {
   "cell_type": "markdown",
   "source": [],
   "metadata": {
    "collapsed": false
   }
  },
  {
   "cell_type": "code",
   "execution_count": null,
   "outputs": [],
   "source": [
    "SuperpixelsProcessor(image, slic_params).postprocess_tiles_borders_in_concatenated_prediction(512, 512, \"/home/marcin/git_workspace/Thesis_project/Semantic-segmentation-of-LandCover.ai-dataset/models/custom_data/output/chelm_border_vertical.jpg\")"
   ],
   "metadata": {
    "collapsed": false
   }
  },
  {
   "cell_type": "code",
   "execution_count": null,
   "outputs": [],
   "source": [
    "concat_img = ImagePostprocessor(\n",
    "get_absolute_path_to_project_location(\"models/custom_data/slic_for_bigger_img\"),\n",
    "    get_absolute_path_to_project_location(\"models/custom_data/out_slic_for_bigger_img\"),\n",
    ").concatenate_images()"
   ],
   "metadata": {
    "collapsed": false
   }
  },
  {
   "cell_type": "code",
   "execution_count": null,
   "outputs": [],
   "source": [
    "concat_img.shape"
   ],
   "metadata": {
    "collapsed": false
   }
  },
  {
   "cell_type": "code",
   "execution_count": null,
   "outputs": [],
   "source": [
    "# Load image\n",
    "image_filepath = get_absolute_path_to_project_location(\"models/custom_data/out_slic_for_bigger_img/chelm_problematic_sic.jpg\")\n",
    "\n",
    "image = imread(image_filepath)\n",
    "\n",
    "# Perform superpixel segmentation\n",
    "n_segments=10000\n",
    "compactness=5\n",
    "sigma=1\n",
    "min_size_factor=1\n",
    "max_size_factor=5\n",
    "\n",
    "segments = segmentation.slic(\n",
    "    image,\n",
    "    n_segments=n_segments,\n",
    "    compactness=compactness,\n",
    "    start_label=0,\n",
    "    sigma=sigma,\n",
    "    min_size_factor=min_size_factor,\n",
    "    max_size_factor=max_size_factor,\n",
    ")\n",
    "\n",
    "superpixel_boundaries = segmentation.mark_boundaries(image, segments, color=(1, 0, 0))\n",
    "\n",
    "# Create superpixel boundaries overlay\n",
    "image_segments = array_to_img(superpixel_boundaries)\n",
    "image_segments.save(f\"/home/marcin/git_workspace/Thesis_project/Semantic-segmentation-of-LandCover.ai-dataset/models/custom_data/out_slic_for_bigger_img/segments_min_size_factor{min_size_factor}_max_size_factor{max_size_factor}_sigma{sigma}_n_segments{n_segments}_compactness{compactness}.png\")\n",
    "# Display the original image and the superpixel boundaries overlay\n",
    "# fig, ax = plt.subplots(figsize=(1000, 10))\n",
    "# ax.imshow(superpixel_boundaries)\n",
    "# ax.set_xticks([])\n",
    "# ax.set_yticks([])\n",
    "# plt.show()"
   ],
   "metadata": {
    "collapsed": false
   }
  },
  {
   "cell_type": "code",
   "execution_count": null,
   "outputs": [],
   "source": [
    "model_pred = PredictionPipeline(\"deeplabv3plus_v5.10.2\", get_absolute_path_to_project_location(\"models/custom_data/output\"), get_absolute_path_to_project_location(\"models/custom_data/output\"), \"miou\")"
   ],
   "metadata": {
    "collapsed": false
   }
  },
  {
   "cell_type": "code",
   "execution_count": null,
   "outputs": [],
   "source": [
    "not_decoded_prediction = model_pred.get_not_decoded_prediction(image_filepath)"
   ],
   "metadata": {
    "collapsed": false
   }
  },
  {
   "cell_type": "code",
   "execution_count": null,
   "outputs": [],
   "source": [
    "not_decoded_prediction"
   ],
   "metadata": {
    "collapsed": false
   }
  },
  {
   "cell_type": "code",
   "execution_count": null,
   "outputs": [],
   "source": [
    "segments = tf.convert_to_tensor(segments)"
   ],
   "metadata": {
    "collapsed": false
   }
  },
  {
   "cell_type": "code",
   "execution_count": null,
   "outputs": [],
   "source": [
    "segments"
   ],
   "metadata": {
    "collapsed": false
   }
  },
  {
   "cell_type": "code",
   "execution_count": null,
   "outputs": [],
   "source": [
    "model_pred.image_features.image_width"
   ],
   "metadata": {
    "collapsed": false
   }
  },
  {
   "cell_type": "code",
   "execution_count": null,
   "outputs": [],
   "source": [
    "segments = tf.reshape(segments, (1, 512, 512))\n",
    "segments"
   ],
   "metadata": {
    "collapsed": false
   }
  },
  {
   "cell_type": "code",
   "execution_count": null,
   "outputs": [],
   "source": [
    "not_decoded_prediction"
   ],
   "metadata": {
    "collapsed": false
   }
  },
  {
   "cell_type": "code",
   "execution_count": null,
   "outputs": [],
   "source": [
    "max_value = tf.reduce_max(segments, keepdims=False, axis=(1, 2))\n",
    "max_value = max_value.numpy()[0]\n",
    "max_value"
   ],
   "metadata": {
    "collapsed": false
   }
  },
  {
   "cell_type": "code",
   "execution_count": null,
   "outputs": [],
   "source": [
    "for segment_num in range(max_value+1):\n",
    "    indices = tf.where(tf.equal(segments, segment_num))\n",
    "    print(indices)"
   ],
   "metadata": {
    "collapsed": false
   }
  },
  {
   "cell_type": "code",
   "execution_count": null,
   "outputs": [],
   "source": [
    "indices = tf.where(tf.equal(segments, 0)).numpy()\n",
    "extracted_part = tf.gather_nd(not_decoded_prediction, indices)\n",
    "extracted_part"
   ],
   "metadata": {
    "collapsed": false
   }
  },
  {
   "cell_type": "code",
   "execution_count": null,
   "outputs": [],
   "source": [
    "# Use tf.math.bincount() to count the occurrences of each value in the tensor\n",
    "\n",
    "extracted_part = tf.cast(extracted_part, dtype=tf.int32)\n",
    "\n",
    "counts = tf.math.bincount(extracted_part)\n",
    "\n",
    "# Find the index of the most often repeated value\n",
    "most_frequent_value_index = tf.math.argmax(counts)\n",
    "\n",
    "# Get the most often repeated value\n",
    "most_frequent_value = most_frequent_value_index.numpy()\n",
    "most_frequent_value"
   ],
   "metadata": {
    "collapsed": false
   }
  },
  {
   "cell_type": "code",
   "execution_count": null,
   "outputs": [],
   "source": [
    "# Create a tensor of ones with the shape of indices\n",
    "ones = tf.ones((tf.shape(indices)[0],), dtype=tf.int64)\n",
    "\n",
    "# Multiply the ones tensor by max_value\n",
    "updates = ones * most_frequent_value\n",
    "\n",
    "# Update the not_decoded_prediction tensor\n",
    "updated_not_decoded_prediction = tf.tensor_scatter_nd_update(not_decoded_prediction, indices, updates)"
   ],
   "metadata": {
    "collapsed": false
   }
  },
  {
   "cell_type": "code",
   "execution_count": null,
   "outputs": [],
   "source": [
    "updated_not_decoded_prediction"
   ],
   "metadata": {
    "collapsed": false
   }
  },
  {
   "cell_type": "code",
   "execution_count": null,
   "outputs": [],
   "source": [],
   "metadata": {
    "collapsed": false
   }
  }
 ],
 "metadata": {
  "kernelspec": {
   "display_name": "Python 3",
   "language": "python",
   "name": "python3"
  },
  "language_info": {
   "codemirror_mode": {
    "name": "ipython",
    "version": 2
   },
   "file_extension": ".py",
   "mimetype": "text/x-python",
   "name": "python",
   "nbconvert_exporter": "python",
   "pygments_lexer": "ipython2",
   "version": "2.7.6"
  }
 },
 "nbformat": 4,
 "nbformat_minor": 0
}
