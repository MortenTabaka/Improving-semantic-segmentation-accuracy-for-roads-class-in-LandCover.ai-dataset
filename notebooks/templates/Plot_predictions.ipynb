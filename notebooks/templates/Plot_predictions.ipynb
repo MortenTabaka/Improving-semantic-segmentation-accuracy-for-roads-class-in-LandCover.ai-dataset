{
 "cells": [
  {
   "cell_type": "code",
   "execution_count": null,
   "metadata": {},
   "outputs": [],
   "source": [
    "import gdown\n",
    "import os\n",
    "import sys\n",
    "\n",
    "from tensorflow.compat.v1 import ConfigProto\n",
    "from tensorflow.compat.v1 import InteractiveSession\n",
    "\n",
    "\n",
    "config = ConfigProto()\n",
    "config.gpu_options.allow_growth = True\n",
    "session = InteractiveSession(config=config)\n",
    "\n",
    "ABS_PATH = %pwd\n",
    "notebook_path = [idx for idx,ch in enumerate(ABS_PATH) if ch=='/']\n",
    "notebooks_level_in_the_project = 2\n",
    "\n",
    "PROJECT_PATH = ABS_PATH[:notebook_path[-notebooks_level_in_the_project]]\n",
    "if PROJECT_PATH not in sys.path:\n",
    "    sys.path.append(PROJECT_PATH)"
   ]
  },
  {
   "cell_type": "code",
   "execution_count": null,
   "metadata": {},
   "outputs": [],
   "source": [
    "# from src.features.evaluation_utils import ConfusionMatrix, PredictionIoU\n",
    "from src.models.model_builder import Model\n",
    "from src.features.dataset import Dataset\n",
    "from src.visualization.visualize import PredictionMasks"
   ]
  },
  {
   "cell_type": "code",
   "execution_count": null,
   "metadata": {},
   "outputs": [],
   "source": [
    "# download best weights and/or load existing\n",
    "best_weights_path = ABS_PATH + \"/best_miou_score_weights\"\n",
    "\n",
    "URL = \"https://drive.google.com/drive/folders/1MyJ0_lQxBW7ekOzuVaBG4BRIpbaA-7xj?usp=share_link\"\n",
    "\n",
    "if not os.path.exists(best_weights_path):\n",
    "    print(\"Downloading best weights.\")\n",
    "    gdown.download_folder(\n",
    "        url=URL,\n",
    "        output=NOTEBOOK_PATH,\n",
    "        quiet=True,\n",
    "        use_cookies=False\n",
    "    )\n",
    "    print(\"Finished.\")\n",
    "else:\n",
    "    print(\"Best weights are already downloaded.\")"
   ]
  },
  {
   "cell_type": "code",
   "execution_count": null,
   "metadata": {},
   "outputs": [],
   "source": [
    "DATA_DIR = PROJECT_PATH + \"/data/processed/\"\n",
    "BATCH_SIZE = 2\n",
    "IMG_HEIGHT = 512\n",
    "IMG_WIDTH = 512\n",
    "NUM_CLASSES = 5\n",
    "\n",
    "\n",
    "model_creator = Model(IMG_HEIGHT, IMG_WIDTH, NUM_CLASSES)\n",
    "model = model_creator.get_deeplab_model(\n",
    "    weights=\"cityscapes\",\n",
    "    freeze_layers=True,\n",
    "    custom_freeze_border=359,\n",
    "    activation=\"softmax\",\n",
    ")\n",
    "\n",
    "checkpoint_filepath = best_weights_path + \"/checkpoint\"\n",
    "\n",
    "model.load_weights(checkpoint_filepath)\n",
    "landcover_dataset = Dataset(DATA_DIR, IMG_HEIGHT, IMG_WIDTH, NUM_CLASSES, BATCH_SIZE)\n",
    "model_predictor = PredictionMasks(model, landcover_dataset, NUM_CLASSES)"
   ]
  },
  {
   "cell_type": "code",
   "execution_count": null,
   "metadata": {},
   "outputs": [],
   "source": [
    "model_predictor.display_overlay_predictions_for_test_set(\n",
    "    how_many_images=5,\n",
    "    figure_size = (18, 4),\n",
    "    randomly=True,\n",
    "    export_to_file=True\n",
    ")"
   ]
  },
  {
   "cell_type": "code",
   "execution_count": null,
   "metadata": {},
   "outputs": [],
   "source": []
  }
 ],
 "metadata": {
  "kernelspec": {
   "display_name": "Python 3",
   "language": "python",
   "name": "python3"
  },
  "language_info": {
   "codemirror_mode": {
    "name": "ipython",
    "version": 3
   },
   "file_extension": ".py",
   "mimetype": "text/x-python",
   "name": "python",
   "nbconvert_exporter": "python",
   "pygments_lexer": "ipython3",
   "version": "3.6.9"
  }
 },
 "nbformat": 4,
 "nbformat_minor": 1
}
