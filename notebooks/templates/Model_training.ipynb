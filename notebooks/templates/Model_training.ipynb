{
 "cells": [
  {
   "cell_type": "code",
   "execution_count": null,
   "metadata": {},
   "outputs": [],
   "source": [
    "import os\n",
    "import sys\n",
    "from typing import List\n",
    "\n",
    "\n",
    "import tensorflow as tf\n",
    "from tensorflow.compat.v1 import ConfigProto\n",
    "from tensorflow.compat.v1 import InteractiveSession\n",
    "\n",
    "\n",
    "ABS_PATH = %pwd\n",
    "notebook_path = [idx for idx,ch in enumerate(ABS_PATH) if ch=='/']\n",
    "notebooks_level_in_the_project = 2\n",
    "\n",
    "PROJECT_PATH = ABS_PATH[:notebook_path[-notebooks_level_in_the_project]]\n",
    "if PROJECT_PATH not in sys.path:\n",
    "    sys.path.append(PROJECT_PATH)\n",
    "\n",
    "\n",
    "config = ConfigProto()\n",
    "config.gpu_options.allow_growth = True\n",
    "session = InteractiveSession(config=config)"
   ]
  },
  {
   "cell_type": "code",
   "execution_count": null,
   "id": "d8810a7e",
   "metadata": {},
   "outputs": [],
   "source": [
    "from src.data.requests_downloader import UrlDownloader\n",
    "from src.features.dataset import Dataset\n",
    "from src.models.model_builder import Model\n",
    "from src.features.metrics import CustomMeanIoU\n",
    "from src.visualization.visualize import PredictionMasks\n",
    "from src.features.evaluation_utils import (\n",
    "    PredictionIoU,\n",
    "    ConfusionMatrix,\n",
    "    HistoryUtilities,\n",
    "    History\n",
    ")\n",
    "from src.features.loss_functions import SemanticSegmentationLoss"
   ]
  },
  {
   "cell_type": "code",
   "execution_count": null,
   "metadata": {},
   "outputs": [],
   "source": [
    "print(tf.__version__)"
   ]
  },
  {
   "cell_type": "code",
   "execution_count": null,
   "id": "07420b7d",
   "metadata": {},
   "outputs": [],
   "source": [
    "VERSION = '10.0'\n",
    "\n",
    "BATCH_SIZE = 8\n",
    "IMG_HEIGHT = 512\n",
    "IMG_WIDTH = 512\n",
    "NUM_CLASSES = 5"
   ]
  },
  {
   "cell_type": "markdown",
   "id": "93eccb38",
   "metadata": {},
   "source": [
    "# Load datasets"
   ]
  },
  {
   "cell_type": "code",
   "execution_count": null,
   "metadata": {},
   "outputs": [],
   "source": [
    "UrlDownloader().download_project_preprocessed_dataset()"
   ]
  },
  {
   "cell_type": "code",
   "execution_count": null,
   "id": "465e97b5",
   "metadata": {},
   "outputs": [],
   "source": [
    "DATASET_PATH = PROJECT_PATH + '/data/processed/'\n",
    "landcover_dataset = Dataset(DATASET_PATH, IMG_HEIGHT, IMG_WIDTH, NUM_CLASSES, BATCH_SIZE)\n",
    "train_dataset, val_dataset, test_dataset = landcover_dataset.generate_datasets()\n",
    "\n",
    "print(\"Train Dataset:\", train_dataset)\n",
    "print(\"Number of images in Train Dataset:\", BATCH_SIZE * len(train_dataset))\n",
    "print(\"Val Dataset:\", val_dataset)\n",
    "print(\"Number of images in Val Dataset:\", BATCH_SIZE * len(val_dataset))\n",
    "print(\"Test Dataset:\", test_dataset)\n",
    "print(\"Number of images in Val Dataset:\", BATCH_SIZE * len(test_dataset))"
   ]
  },
  {
   "cell_type": "markdown",
   "id": "27281b13",
   "metadata": {},
   "source": [
    "# Class balance "
   ]
  },
  {
   "cell_type": "code",
   "execution_count": null,
   "id": "ca4ffc57",
   "metadata": {
    "scrolled": false
   },
   "outputs": [],
   "source": [
    "landcover_dataset.get_dataframe_of_previously_calculated_class_balance_class_balance().plot.bar(y=\"pixel_count\", xlabel=\"Class name\", ylabel=\"Count\")\n",
    "landcover_dataset.get_dataframe_of_previously_calculated_class_balance_class_balance()"
   ]
  },
  {
   "cell_type": "markdown",
   "id": "ef5f4a1c",
   "metadata": {},
   "source": [
    "# DeepLabv3+\n",
    "## Model architecture\n",
    "https://keras.io/examples/vision/deeplabv3_plus/\n",
    "\n",
    "## Create model object"
   ]
  },
  {
   "cell_type": "code",
   "execution_count": null,
   "id": "357c8166",
   "metadata": {},
   "outputs": [],
   "source": [
    "model_creator = Model(IMG_HEIGHT, IMG_WIDTH, NUM_CLASSES)"
   ]
  },
  {
   "cell_type": "markdown",
   "id": "51c91706",
   "metadata": {},
   "source": [
    "# Evaluation utilities"
   ]
  },
  {
   "cell_type": "code",
   "execution_count": null,
   "id": "93d76047",
   "metadata": {},
   "outputs": [],
   "source": [
    "custom_mIoU_metric = CustomMeanIoU(num_classes=NUM_CLASSES, name='mIoU')"
   ]
  },
  {
   "cell_type": "markdown",
   "id": "1f2290e4",
   "metadata": {},
   "source": [
    "## Callbacks\n",
    "### Model checkpoint"
   ]
  },
  {
   "cell_type": "code",
   "execution_count": null,
   "id": "750b5074",
   "metadata": {},
   "outputs": [],
   "source": [
    "def create_folders(paths: List[str]):\n",
    "    for path in paths:\n",
    "        if not os.path.exists(path):\n",
    "            os.makedirs(path)"
   ]
  },
  {
   "cell_type": "code",
   "execution_count": null,
   "id": "737c4322",
   "metadata": {},
   "outputs": [],
   "source": [
    "path_best_dice_loss = PROJECT_PATH + f'/notebooks/templates/results/DeepLabv3+/{VERSION}/best_dice_loss/checkpoint'\n",
    "dir_path_dice_loss= PROJECT_PATH + f'/notebooks/templates/results/DeepLabv3+/{VERSION}/best_dice_loss'\n",
    "path_best_miou = PROJECT_PATH + f'/notebooks/templates/results/DeepLabv3+/{VERSION}/best_miou/checkpoint'\n",
    "dir_path_miou = PROJECT_PATH + f'/notebooks/templates/results/DeepLabv3+/{VERSION}/best_miou'\n",
    "\n",
    "\n",
    "create_folders([\n",
    "    dir_path_dice_loss,\n",
    "    dir_path_miou,\n",
    "])"
   ]
  },
  {
   "cell_type": "code",
   "execution_count": null,
   "id": "a1b6d567",
   "metadata": {},
   "outputs": [],
   "source": [
    "best_val_loss = tf.keras.callbacks.ModelCheckpoint(\n",
    "    path_best_dice_loss,\n",
    "    monitor='val_loss',\n",
    "    verbose=1,\n",
    "    save_best_only=True,\n",
    "    save_weights_only=True,\n",
    "    mode='min',\n",
    "    save_freq='epoch'\n",
    ")\n",
    "\n",
    "best_miou = tf.keras.callbacks.ModelCheckpoint(\n",
    "    path_best_miou,\n",
    "    monitor='val_mIoU',\n",
    "    verbose=1,\n",
    "    save_best_only=True,\n",
    "    save_weights_only=True,\n",
    "    mode='max',\n",
    "    save_freq='epoch'\n",
    ")"
   ]
  },
  {
   "cell_type": "markdown",
   "id": "2a495e73",
   "metadata": {},
   "source": [
    "### Early stopping"
   ]
  },
  {
   "cell_type": "code",
   "execution_count": null,
   "id": "7239ada7",
   "metadata": {},
   "outputs": [],
   "source": [
    "early_stopping_val_loss = tf.keras.callbacks.EarlyStopping(monitor='val_loss',\n",
    "                                                           patience=3,\n",
    "                                                           mode='min')"
   ]
  },
  {
   "cell_type": "markdown",
   "id": "ca7a948e",
   "metadata": {},
   "source": [
    "### Learning rate schedule [optimizer]"
   ]
  },
  {
   "cell_type": "code",
   "execution_count": null,
   "id": "04dab938",
   "metadata": {},
   "outputs": [],
   "source": [
    "EPOCHS = 20\n",
    "\n",
    "NUM_TRAIN_IMAGES = BATCH_SIZE * len(train_dataset)\n",
    "NUM_VAL_IMAGES = BATCH_SIZE * len(val_dataset)\n",
    "\n",
    "initial_learning_rate = 0.001\n",
    "final_learning_rate = 0.0001\n",
    "learning_rate_decay_factor = (final_learning_rate / initial_learning_rate) ** (1/EPOCHS)\n",
    "steps_per_epoch = int(NUM_TRAIN_IMAGES/BATCH_SIZE)\n",
    "\n",
    "lr_schedule = tf.keras.optimizers.schedules.ExponentialDecay(\n",
    "                initial_learning_rate=initial_learning_rate,\n",
    "                decay_steps=steps_per_epoch,\n",
    "                decay_rate=learning_rate_decay_factor,\n",
    "                staircase=True)"
   ]
  },
  {
   "cell_type": "markdown",
   "id": "aa1ab5da",
   "metadata": {},
   "source": [
    "### Get current lr [metric]"
   ]
  },
  {
   "cell_type": "code",
   "execution_count": null,
   "id": "c8a20742",
   "metadata": {},
   "outputs": [],
   "source": [
    "# #  https://stackoverflow.com/questions/47490834/how-can-i-print-the-learning-rate-at-each-epoch-with-adam-optimizer-in-keras\n",
    "\n",
    "# def get_lr_metric(optimizer):\n",
    "#     def lr(y_true, y_pred):\n",
    "#         return optimizer._decayed_lr(tf.float32)\n",
    "#     return lr\n",
    "\n",
    "# optimizer_adam = tf.keras.optimizers.Adam(learning_rate=lr_schedule)\n",
    "# lr_metric = get_lr_metric(optimizer_adam)"
   ]
  },
  {
   "cell_type": "markdown",
   "id": "49e8b583",
   "metadata": {},
   "source": [
    "## Training settings"
   ]
  },
  {
   "cell_type": "code",
   "execution_count": null,
   "id": "dbd9b7df",
   "metadata": {},
   "outputs": [],
   "source": [
    "# creating a model\n",
    "WEIGHTS = \"cityscapes\"\n",
    "SHOULD_FREEZE_LAYERS = True\n",
    "LAST_LAYER_TO_FREEZE = 359  # All from the top up to 359 will be frozen\n",
    "ACTIVATION = \"softmax\"\n",
    "DEEPLAB_VERSION = \"original\"\n",
    "\n",
    "# compiling the model\n",
    "OPTIMIZER = tf.keras.optimizers.Adam(0.001)\n",
    "LOSS = SemanticSegmentationLoss(NUM_CLASSES).soft_dice_loss\n",
    "METRICS = [\"accuracy\", custom_mIoU_metric]\n",
    "\n",
    "# training the model\n",
    "EPOCHS = 20\n",
    "TRAINING_DATA_PATH = PROJECT_PATH + f'/notebooks/templates/results/DeepLabv3+/{VERSION}'\n",
    "CALLBACKS = [\n",
    "    early_stopping_val_loss,\n",
    "    best_val_loss,\n",
    "    best_miou\n",
    "]\n"
   ]
  },
  {
   "cell_type": "markdown",
   "id": "c685c880",
   "metadata": {},
   "source": [
    "## Training"
   ]
  },
  {
   "cell_type": "code",
   "execution_count": null,
   "id": "7bd237b5",
   "metadata": {
    "scrolled": false
   },
   "outputs": [],
   "source": [
    "model = model_creator.get_deeplab_model(\n",
    "    weights=WEIGHTS,\n",
    "    freeze_layers = SHOULD_FREEZE_LAYERS,\n",
    "    custom_freeze_border = LAST_LAYER_TO_FREEZE,\n",
    "    activation = ACTIVATION,\n",
    "    architecture_version=DEEPLAB_VERSION,\n",
    ")\n",
    "\n",
    "# tf.keras.utils.plot_model(model, to_file=data_save_dir + '/Deeplabv3plus_v8_5.jpg', show_shapes=True)\n",
    "\n",
    "model.compile(\n",
    "    optimizer=OPTIMIZER,\n",
    "    loss=LOSS,\n",
    "    metrics=METRICS,\n",
    ")\n"
   ]
  },
  {
   "cell_type": "code",
   "execution_count": null,
   "metadata": {},
   "outputs": [],
   "source": [
    "history = model.fit(\n",
    "    train_dataset,\n",
    "    validation_data=val_dataset,\n",
    "    epochs=EPOCHS,\n",
    "    callbacks=CALLBACKS,\n",
    ")"
   ]
  },
  {
   "cell_type": "markdown",
   "id": "75ccdccc",
   "metadata": {},
   "source": [
    "### Save history to file"
   ]
  },
  {
   "cell_type": "code",
   "execution_count": null,
   "id": "bff2a581",
   "metadata": {
    "scrolled": false
   },
   "outputs": [],
   "source": [
    "history_utils = HistoryUtilities()\n",
    "history_utils.dump_model_history_to_file(history, TRAINING_DATA_PATH, \"history\")\n",
    "\n",
    "History([history]).display_history_plots()"
   ]
  },
  {
   "cell_type": "markdown",
   "id": "70cc9e6e",
   "metadata": {},
   "source": [
    "## Evaluate the model"
   ]
  },
  {
   "cell_type": "code",
   "execution_count": null,
   "id": "4fdf314e",
   "metadata": {},
   "outputs": [],
   "source": [
    "model.load_weights(path_best_dice_loss)"
   ]
  },
  {
   "cell_type": "code",
   "execution_count": null,
   "id": "0c2b8285",
   "metadata": {},
   "outputs": [],
   "source": [
    "iou_every_class = PredictionIoU(model, test_dataset, NUM_CLASSES).get_iou_for_every_class()\n",
    "iou_every_class"
   ]
  },
  {
   "cell_type": "code",
   "execution_count": null,
   "id": "7a2a5cdc",
   "metadata": {},
   "outputs": [],
   "source": [
    "PredictionMasks(model, landcover_dataset, NUM_CLASSES).display_overlay_predictions_for_test_set(4, (25, 25))"
   ]
  },
  {
   "cell_type": "markdown",
   "id": "40aed2de",
   "metadata": {},
   "source": [
    "### Confusion matrix"
   ]
  },
  {
   "cell_type": "code",
   "execution_count": null,
   "id": "8f1dec4c",
   "metadata": {
    "scrolled": false
   },
   "outputs": [],
   "source": [
    "class_names = ['background', 'buildings', 'woodland', 'water', 'roads']\n",
    "\n",
    "confusion_matrix = ConfusionMatrix(model, test_dataset, NUM_CLASSES)\n",
    "confusion_matrix.display_confusion_matrix(class_names)"
   ]
  },
  {
   "cell_type": "code",
   "execution_count": null,
   "id": "732ffe67",
   "metadata": {},
   "outputs": [],
   "source": [
    "model.evaluate(test_dataset)"
   ]
  },
  {
   "cell_type": "markdown",
   "id": "f662ebce",
   "metadata": {},
   "source": [
    "# Further training the model\n",
    "## You may change the settings\n",
    "E.g. Freeze less layers, change optimizer's learning rate, add metric, etc."
   ]
  },
  {
   "cell_type": "code",
   "execution_count": null,
   "id": "f6630f89",
   "metadata": {},
   "outputs": [],
   "source": [
    "model = model_creator.get_deeplab_model(\n",
    "    weights=WEIGHTS,\n",
    "    freeze_layers = SHOULD_FREEZE_LAYERS,\n",
    "    custom_freeze_border = LAST_LAYER_TO_FREEZE - 40,  # freeze 40 layers less than before \n",
    "    activation = ACTIVATION,\n",
    "    architecture_version=DEEPLAB_VERSION,\n",
    ")\n",
    "\n",
    "model.compile(\n",
    "    optimizer=OPTIMIZER,\n",
    "    loss=LOSS,\n",
    "    metrics=METRICS,\n",
    ")\n",
    "\n",
    "# load weights with best results\n",
    "model.load_weights(path_best_dice_loss)\n",
    "\n",
    "history_2 = model.fit(\n",
    "    train_dataset, \n",
    "    validation_data=val_dataset, \n",
    "    epochs=EPOCHS,\n",
    "    callbacks=CALLBACKS,\n",
    ")"
   ]
  },
  {
   "cell_type": "code",
   "execution_count": null,
   "id": "2a25dd0c",
   "metadata": {
    "scrolled": false
   },
   "outputs": [],
   "source": [
    "History([history, history_2]).display_history_plots(TRAINING_DATA_PATH)"
   ]
  },
  {
   "cell_type": "code",
   "execution_count": null,
   "id": "5f5f3877",
   "metadata": {},
   "outputs": [],
   "source": []
  }
 ],
 "metadata": {
  "kernelspec": {
   "display_name": "Python 3",
   "language": "python",
   "name": "python3"
  },
  "language_info": {
   "codemirror_mode": {
    "name": "ipython",
    "version": 3
   },
   "file_extension": ".py",
   "mimetype": "text/x-python",
   "name": "python",
   "nbconvert_exporter": "python",
   "pygments_lexer": "ipython3",
   "version": "3.6.9"
  }
 },
 "nbformat": 4,
 "nbformat_minor": 5
}
